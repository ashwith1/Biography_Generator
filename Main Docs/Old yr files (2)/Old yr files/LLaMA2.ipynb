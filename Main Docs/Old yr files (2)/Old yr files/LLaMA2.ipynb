{
 "cells": [
  {
   "cell_type": "code",
   "execution_count": null,
   "metadata": {},
   "outputs": [],
   "source": [
    "!pip install transformers\n",
    "!pip install tensorflow\n",
    "!pip install --upgrade transformers"
   ]
  },
  {
   "cell_type": "code",
   "execution_count": null,
   "metadata": {},
   "outputs": [],
   "source": [
    "from transformers import TFAutoModelForCausalLM, AutoTokenizer\n",
    "\n",
    "model_name = \"meta-llama/Llama-2-70b-chat-hf\"\n",
    "token = \"your_token_here\"  # Replace with your actual token\n",
    "\n",
    "# Load the model and tokenizer with the provided token\n",
    "tf_model = TFAutoModelForCausalLM.from_pretrained(model_name, revision=\"main\", token=token)\n",
    "pt_model = tf_model.to('cpu')\n",
    "\n",
    "tokenizer = AutoTokenizer.from_pretrained(model_name, from_tf=True)\n",
    "\n",
    "# Save the model and tokenizer to a directory\n",
    "pt_model.save_pretrained(\"llama2_70b_pretrained_model_pt\")\n",
    "tokenizer.save_pretrained(\"llama2_70b_pretrained_model_pt\")\n",
    "\n",
    "print(f\"Model and tokenizer saved to 'llama2_70b_pretrained_model_pt'\")\n"
   ]
  }
 ],
 "metadata": {
  "kernelspec": {
   "display_name": "Python 3",
   "language": "python",
   "name": "python3"
  },
  "language_info": {
   "name": "python",
   "version": "3.11.4"
  }
 },
 "nbformat": 4,
 "nbformat_minor": 2
}
