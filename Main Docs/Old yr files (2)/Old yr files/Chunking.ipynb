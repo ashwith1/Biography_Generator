{
 "cells": [
  {
   "cell_type": "code",
   "execution_count": 1,
   "id": "22cbea6a-bdbe-4021-9e30-17eaf2613ea1",
   "metadata": {},
   "outputs": [
    {
     "data": {
      "application/vnd.jupyter.widget-view+json": {
       "model_id": "f12231827d2e40c0a5ff878ced05aa4d",
       "version_major": 2,
       "version_minor": 0
      },
      "text/plain": [
       "Loading checkpoint shards:   0%|          | 0/2 [00:00<?, ?it/s]"
      ]
     },
     "metadata": {},
     "output_type": "display_data"
    }
   ],
   "source": [
    "import LLaMa_LangCain"
   ]
  },
  {
   "cell_type": "code",
   "execution_count": 2,
   "id": "b724ca7f-ed5e-4021-b564-df86e423a770",
   "metadata": {
    "jupyter": {
     "source_hidden": true
    }
   },
   "outputs": [],
   "source": [
    "out=\"\"\n",
    "text=\"\"\"\n",
    "I: \tJa, er nimmt das auf, so und jetzt ist, hatte einmal vergessen, da Files zu löschen, das war echt total übel.  \n",
    "\n",
    "A:\tDas sollte auch, ja, der Ausschlag ist auf jeden Fall zu sehen  \n",
    "\n",
    "I: \tDas nimmt dich auf, das nimmt dich auf.  \n",
    "\n",
    "A:\tBin ich schon dran?  \n",
    "\n",
    "I: \tDu bist schon dran, ALSO. Ich möchte dich bitten, deine Lebensgeschichte zu erzählen, also nicht nur, über die Zeit jetzt auch jetzt davor, wenn du dich noch mal zurückversetzen magst, ähm, ja, also nicht nur die Stationen, so als Aufzählung, sondern auch immer, irgendwie, was dich beeinflusst hat, dein, dein Umfeld vielleicht, ähm, das dich beschäftigt hat, und ja.  \n",
    "\n",
    "A: \tOkay, also ich denk mal, ich fang mal ganz früh eigentlich, und zwar in dem- zu dem Zeitpunkt äh, als mich Musik vielleicht zum ersten Mal, ähm, bewusster, ähm, getroffen hat, und zwar würd ich sagen, war das äh circa Neunzehnhundertvierundsiebzig, als ich VIER Jahre als war.  \n",
    "\n",
    "Und ähm, seiner Zeit mit meiner Mutter durch die Fußgängerzone, in (Name Stadt 1) gelaufen bin. Und habe ähm, ja irgendwelche Indio-Musiker aus den Anden spielen sehen, und die waren natürlich entsprechend äh als Indios auch, zu erkennen. In ihren äh traditionellen Kostümen, und mit ihren traditionellen Instrumenten und äh, den hab ich also SEHR gespannt zugehört.  \n",
    "\n",
    "Und daraufhin hat meine Mutter zu Hause eine Schallplatte aus ihrer Plattensammlung rausgeholt, mit Indio-Musik. Und äh, diese Schallplatte sollte also dann regelmäßig für mich aufgelegt werden, ich hab das also dann sehr gerne gehört, und äh, hinzukam noch, dass diese Schallplatte noch ne andere Funktion hatte erfüllte, denn, meine Mutter dachte dann, in dem Augenblick, wo ich die Musik gerne mögen würde, würde ich auch die entsprechende Kleidung mögen, und kaufte mir eine Wollmütze (lacht). Eine südamerikanische. Die ich aber ablehnte, und über die Musik, die äh, an dem- an die ich mich- an der mich- an der ich mich aber gefreut habe, äh, freute ich mich irgendwann auch an der Wollmütze, das ist meine erste Erinnerung an Musik und irgend ne emotionale Verbindung.  \n",
    "\n",
    " \n",
    "\n",
    "Ähm, ich bin dann..vielleicht ein Jahr später..ähm, erneut mit meiner Mutter die eigentlich da den größten Einfluss ausgeübt hat, in die Oper gegangen, zum aller ersten Mal, und zwar in, äh, ich kann mich an das Stück nicht mehr erinnern, was das war, aber ich kann mich an diverse Szenen noch erinnern und kann mich daran erinnern, dass es mir doch sehr schwer gefallen ist, da irgendwie äh n Faden zu behalten, ähm, aber das war die erste, das erste Erlebnis äh, von ähm, Musik in sonem ja eher klassischen Kontext, und äh, im selben Zeitraum bin ich dann Sonntags mit meinem Vater ganz häufig, zu 'som musikalischen Frühschoppen gegangen (lacht). Und da spielten diverse, Amateurbands oder auch semi-professionelle Bands, äh, unterschiedlichste Art von Musik soweit ich mich erinnern kann.  \n",
    "\n",
    "Und zwar war das, spielte sich das damals ab, im Staatstheater (Name Stadt 1). Im FOYER. Das war also sonntags n regelmäßiger Ausflug. Ähm, weiter ging’s, mit sechs, n, halb Jahren, da kauften nämlich die Nachbarn meiner Eltern ein Klavier, und die beiden Nachbarskinder fingen an, Klavier zu spielen. Und äh, ich wurde gefragt, ob ich nicht auch gerne Klavier spielen lernen wollte, und das äh hab ich bejaht und dann bin ich im ersten halben Jahr, ähm, zum Üben noch zu den Nachbarn gegangen, weil meinen Eltern erst mal abwarten wollten, ob sich das so, äh, ob sich diese, diese Freude so'n bisschen, äh, verfestigt.  \n",
    "\n",
    "Und das hat sie aber auch dann getan, ich hab dann äh, den, meinen ersten Klavierlehrer gehabt, hab also regelmäßig, jede Woche Klavierstunde gehabt.  \n",
    "\n",
    "Und äh, da war ich dann knapp sieben, würde ich sagen. Und dann ging das eigentlich richtig los, ich hab mich dann, parallel dazu, ähm, angefangen, SEHR für Musik zu interessieren, für die Plattensammlung meiner Eltern, die natürlich entsprechend aus 'soner Single Kollektion aus den Fünfzigern und sechziger Jahren stammt, und diversen, ähm, ja, Langspielplatten, ähm, vornehmlich aus'n sechziger und frühen siebziger Jahren, also eher so ff- Folk äh angehauchte Sachen.  \n",
    "\n",
    "Bisschen Rolling Stones, Beatles natürlich mit dabei, ähm, nichts Exotisches, aber doch zumindest so'n gewisser Einstieg. Und ich hab dann, ähm, im Jahre Siebenundsiebzig, meine erste Langspielplatte gekauft, von meinem Taschengeld.  \n",
    "\n",
    "Ähm, und zwar- oder hab was dazugegeben, wahrscheinlich, und zwar war das damals so, dass meine Eltern beim Deutschen Bücherbund waren, das kann ich noch genau erinnern, und da konnte man sich irgendwie einmal im Quartal oder sowas, irgendwas AUSSUCHEN.  \n",
    "\n",
    "So, und das war also äh wieder mal der Fall, und äh, ich ging also zu diesem deutschen Bücherbund-Shop, wieder mal mit meiner Mutter. Man konnte sich die Schallplatten an einem Kopfhörer mit nur einer Hörmuschel anhören, das ist auch also, heute gar nicht mehr vorstellbar, und ähm, man bekam diese Platte aufgelegt, für mich wars ähm, ne Platte von Rolling Stones natürlich, weil meine Eltern die eben auch im Plattenschrank hatten, es war die Some Girls, die- ich glaub die kam die sogar Siebenundsiebzig raus.  \n",
    "\n",
    "Und, das war meine aller erste selbst äh, erworbene Schallplatte. Naja, und dann, ist ganz ganz wichtig zu sagen, dass neben diesem Klavierunterricht, den ich halt IMMER hatte, ähm, ich einen unheimlich.musikalischen Onkel, hatte.  \n",
    "\n",
    "Bis letztes Jahr, wohlgemerkt. Der ähm, ne Stunde von uns ent- uns entfernt wohnt, in Dietz an der Lahn, und äh, der damals schon, obwohl er eigentlich tagsüber was ganz anderes gemacht hat, ein unheimlich, ja, eingerichtetes Musikzimmer hatte. Das heißt, da stand also alles drin, vom Flügel über äh, damals schon Synthesizer, Orgel, äh bis hin zu jeglicher Form von E-Gitarre, akustischer Gitarre, Klarinette, Trompete, Saxophon, ähm, alle möglichen Schlaginstrumente, bis hin zum Schlagzeug, was sein einer Sohn auch spielte.  \n",
    "\n",
    "Und das war natürlich n gefundenes Fressen, ich hab dann, da regelmäßig meine Sommerferien verbracht, teilweise eben bis zu drei, vier Wochen, da gewohnt, ähm, hab mich da austoben können, nach Lust und Laune.  \n",
    "\n",
    "Es war auch mein erster Kontakt natürlich zu elektronisch erzeugter Musik, weil eben äh, Synthesizer waren mir völlig unbekannt vorher, ähm, gleiches galt eben auch für VERSTÄRKER und auch die entsprechenden äh auch Orgelverstärker mit diesen mit diesen äh sich drehenden Hörnern oben und man also schon damals irgendwelche Klang, Effekte machen, die ff- bei mir zu Hause natürlich unvorstellbar waren. Und ähm, dort bin ich auch dann dazu gekommen, zum ersten Mal in meinem Leben Schlagzeug zu spielen.  \n",
    "\n",
    "Also mein Cousin, zwei Jahre älter als ich, spielte glaube ich schon seit dem er sieben oder acht war, und, wir befinden uns jetzt ungefähr schon im Jahreeee neunundsiebzig oder achtzig. Und damals kam ne Platte raus von John Lennon und Yoko Ono, und äh (beide lachen), da war diese Stück eben drauf. Äh, wie heißt es noch gleich, Imagine. So. Imagine, ähm, ist ja nicht nur'n tolles Popstück sondern es hat ja n unheimlich leichten Rhythmus auch, ja schlussendlich, und ich b- na setzte mir also die Kopfhörer auch und fing also an, zu Imagine, zu trommeln. ..Und ähm in dem Augenblick, wo ich das so'n bisschen raus hatte und äh- wollt ich auch gar nicht mehr aufhören, ich hab also immer weiter getrommelt, halt irgendwie jedes Mal noch andere Musik aufgelegt, ähm, kam also von diesem Schlagzeug auch nicht mehr weg. ..Und, dann kam's also dazu, dass noch ein Jahr verging, und äh alle gemerkt haben, der kommt, nicht nur vom Klavier nicht mehr richtig weg, sondern auch vom Schlagzeug nicht mehr, und sich dann schließlich mein Onkel eines Nachmittags als er eben in das Zimmer, in das Musikzimmer mal reinkam in den Ferien, mal mich spielen hörte und äh meinen Eltern sagte, der braucht n Schlagzeug, der ist irgendwie talentiert, hat Rhythmusgefühl.  \n",
    "\n",
    " \n",
    "\n",
    "Ja, für meine Eltern war das natürlich damals ähm..nicht leicht, sofort ja zu sagen, weil irgendwie kein Musikzimmer außer halt äh im Wohnzimmer zu Hause und n Schlagzeug ist halt doch was anderes, als n Klavier und, ich hab natürlich äh, da nicht locker gelassen, ich hab ja noch n- noch mehr Ferien da verbracht, noch mehr Tag im Onkel im Haus und ja und irgendwann hat der mir einen Scheck geschickt, das war der erste Scheck meines Lebens, über tausendfünfhundert D-Mark so.  \n",
    "\n",
    "Und tausendfünfhundert D-Mark mit der- mit der Auflage, mir davon ein Schlagzeug zu kaufen.  \n",
    "\n",
    "So, das war halt mein Onkel, da muss man sagen, dem hab ich also sehr sehr viel zu verdanken, ähm, da gab’s dann keinen Weg mehr zurück, ich ging also dann, in das ortsansässige Musikgeschäft in (Name Stadt 1), Musikhaus Krusius, wo ich mich eh schon dauernd aufgehalten habe, weil ich, äh, bestimmt ein zwei Mal die Woche da geguckt habe, was es da so gibt.  \n",
    "\n",
    "Äh, an Synthesizern vor allem und an allen, möglichen Sachen, die mich damals schon interessiert haben, weil sie einfach ungewöhnliche Klänge erzeugt haben, und da, ähm, bin ich also hin...und wie es der Zufall so wollte, war der Verkäufer auch noch n alter Freund meines Vaters und die hatten sich schon f- fünfzehn, zwanzig Jahre nicht mehr gesehen, also es gab n großes Hallo und ich bekam ein, Schlagzeug. Ne Tama Swingstar. In blau. Und dieses Schlagzeug (beide lachen) kam natürlich nicht ins Wohnzimmer, sondern kam bei uns in den Keller, im Haus.  \n",
    "\n",
    " \n",
    "\n",
    "Und der Keller war in keinster Weise isoliert oder irgendwas, und ich hab das Schlagzeug da aufgestellt, und hab dann immer, best- also jeden- jeden Nachmittag ab drei Uhr bestimmt äh, ja, bis ich halt nicht mehr konnte gespielt.  \n",
    "\n",
    "Die Nachbarn haben sich, NICHT gefreut aber haben sich auch nicht, das war halt wirklich ziemlich laut zu hören, aber, aus irgendeinem Grund ging das alles durch.  \n",
    "\n",
    "Hab parallel noch Musik- äh und Klavierunterricht gehabt. Und kann mich da noch dran erinnern, dass mein Klavierlehrer überhaupt nicht erfreut war. Ich hab das Schlagzeug glaube ich Zweiundachtzig bekommen. Und mein Klavierlehrer fand das also ne ganz schlechte Idee, der hat sich gesagt, dass äh, ähm, mit dem Klavier sollte doch eigentlich reichen, der issss, der kann spielen, der hat irgendwie ähm- ist in der Lage, äh- bei- chh- konnte angeblich immer besonders gut Bach spielen und äh ich war in der Lage irgendwo eher s- so, auch analytisch an die Musik heranzugehen, und er sagt- und er hat eben vermutet, dass ich- dass ich durch das Schlagzeug spielen, da die- das Feingefühl, verlieren würde, für den Rest, den ich halt mache.  \n",
    "\n",
    " \n",
    "\n",
    "Aber es war eben nicht zu ändern, ich wollte es halt unbedingt, und, ähm, hab dann auch weiterhin Klavier gespielt, kann mich auch nicht daran erinnern, dass das Schlagzeug da, n Problem war, weder für meine Ohren noch für irgendwie den, sag ich mal, äh Einsatz beim Üben.  \n",
    "\n",
    "Nur es hat natürlich eine weitere Folge gehabt, Schlagzeug Spielen macht ja allein überhaupt keinen Spaß. Und dann hab ich, damals, im Keller eben gesessen und geübt und geübt und geübt und mein Bruder, der fünf Jahre älter ist als ich, der hatte damals Gitarre gespielt, und hatte Freund, die auch in ner Band spielten, und ähm, diese Freunde waren natürlich oft auch mal bei meinem Bruder zu Besuch.  \n",
    "\n",
    "Und die hörten mich dann spielen im Keller, uuund, äh, irgendwann haben die gesagt, der der spielt gut genug für uns, wir fragen den, ob der mit zu uns spielen will, weil die haben grad noch n Schlagzeuger gesucht.  \n",
    "\n",
    "Die waren natürlich alle sechzehn, siebzehn, Jahre alt, ich war halt zwölf. Und da hab ich sofort gesagt, klar, mach ich.  \n",
    "\n",
    "Also, ich würde gern in ner Band spielen..und, war plötzlich Schlagzeuger in ner Band, die hieß, Tonic (lacht), wie Tonic Water, ja.  \n",
    "\n",
    "Uuuund, rückblickend natürlich ne furchterregende, Angelegenheit, wir haben damals so äh, die waren halt ganz- sie wollten eigentlich so FUNK spielen und irgendwelche so ja (Laute der deutlichen Abneigung), irgendwie amerikanisch, soulig angehauchten Stücke, das ist natürlich äh, waren, waren natürlich weit entfernt davon, so was hinzukriegen, aber, es hat mich zumindest, äh, zu der Musik heran- äh- rangeführt.  \n",
    "\n",
    "Das heißt, ich hab ganz viele Platten wieder bekommen äh, konnt mir ganz viele Platten aufnehmen, hab völlig neue Einflüsse gehabt, und hab da eben, dann vielleicht auch zum allerersten Mal, ähm, so äh mitbekommen, was es eigentlich heißt, so'n Groove zu entwickeln. Oder eben so' n so- ja, irgendwas zu machen, was den Leuten eben ins eh- in die Beine äh geht, und hab mich entsprechend als Schlagzeuger immer ferngehalten, von da ab auch, äh, von irgendwelchen Rockbands oder solchen Geschichten.  \n",
    "\n",
    "Man muss dazu auch sagen, dass ich eigentlich..rückblickend so den schlechtesten Musikgeschmack hatte ich bestimmt gehabt, eben zwischen so zehn und fünfzehn, also diese ganze Teenie-Geschichte, die führt ja dazu, dass man, dass man eigentlich von ganz vielen Dingen abgehalten wird, die eigentlich viel interessanter sind. Und man fällt eben rein auf irgendwelche plakative Musik oder. Für mich wars eben, ich war wahnsinnig äh, enthusiastischer Kiss Fan, ne Zeit lang ja, und äh, Hard Rock, Heavy Metal fand ich super, na klar, hat auch irgendwie jeden genervt, außer miiir, und das findet man ja auch gut, in dem Alter, aber eben diese Band hat dann eben auch gezeigt, da gibt's noch n paar andere Sachen, und dann haben die mir, keine Ahnung, damals, so Earth Wind and Fire vorgestellt, Commodores, ähm, irgendwelche Soulplatten, ehhh ja. Ganz unterschiedliche Sachen.  \n",
    "\n",
    " \n",
    "\n",
    "Das war also glaub ich rückblickend ganz gut, dass ich da gemerkt hab, es gibt eben nicht nur ähm, AC DC und Motörhead, wobei das dann ja später wieder auf ne, andere Art zurückkam. Aber das kommt dann noch. Gut.  \n",
    "\n",
    "Und dann..hab ich da also jahrelang erst mal mit dieser Band gespielt. Ich hab dann meine ersten Auftritte, gehabt. Mit, ja eben auch relativ schnell, mit zwölf, dreizehn auf Schülerfesten.Und ähm.auf diesen Schülerfesten hab ich auch erste mal- zum ersten Mal so Erfahrungen gesammelt, was es überhaupt heißt, vor Publikum zu stehen, was als Schlagzeuger immer noch ganz gut ist, weil man ja ganz hinten steht, ich wär also niemals auch damals in der Lage gewesen, irgendwie vorne Gitarre zu spielen oder irgendwas dergleichen, weil ich immer sehr, zurückhaltend, was das betrifft und deswegen wollte ich auch niemals SÄNGER werden.  \n",
    "\n",
    "Und ähm, hab dann, da in dieser Band gespielt, bis die alle siebzehn, achtzehn waren, und natürlich entsprechend die Stadt verlassen haben. Weil ganz viele von denen haben dann studiert, sind irgendwo anders hingegangen, die Band hat sich also aufgelöst. Ich denke mal das war dann so, Vierundachtzig, oder sowas um den Dreh.Und ähm, da hat sich aber was Neues angebaaahnt, ähm...ich hab dann mit, Freunden, oder Leuten, die ich auch dann erst kennen gelernt habe, weil man- irgendwie hatte ich glaube ich- hatte sich mein Name rumgesprochen, ich häh wär da irgendwie zu haben und ich hätte auch n Proberaum, wo die Band auch vorher gespielt hat und es war also alles wieder, ähm, offen, letzen Endes.  \n",
    "\n",
    "Und dann hab ich neue Leute gefunden, oder auch äh haben sich Leute vorgestellt, meine ich, ja, äh, und wir 'ham ne Band gegründet, erneut, die dann noch mal so'n bisschen anspruchsvoller werden sollte, und das war dann so ne JAZZ-FUNK-BAND ja, also mit so, da war ich vielleicht sechzehn. Fünfzehn, sechzehn, siebzehn, uund ähm, es sollte also jetzt immer, äh, komplizierter werden alles, wir hatten dann uns die wildesten Arrangements irgendwie ausgedacht, und es wurde alles wahnsinnig aus- UFERND und äh, jeder wollte sich an seinem Instrument irgendwie auch überbieten, ähm (seufzt), rückblickend natürlich ne ganz..zweifelhafte Angelegenheit.  \n",
    "\n",
    "Also Musik, die Qualität blieb oft irgendwie auf der Strecke, die Ambitionen waren einfach zu hoch würde ich sagen, es blieb irgendwas auf der Strecke, aber es war zumindest, auch wieder sehr lehrreich, weil, es waren glaub ich fünf oder sechs Leute, man musste sich irgendwie mittönender auch arrangieren. Und, wir 'Häm auch so Erfahrungen gemacht, dass wir mal ins Ausland gefahren sind, wir hatten mal in Frankreich gespielt und Häm äh, sind dann auch..weil der Pianist, der der Einzige, der richtig gut war war, würde ich sagen, in der Kapelle. Und dessen Vater hatte so Verbindungen zu diversen Jazz Festivals weil er selbst da schon aufgetreten war und der brachte uns dann auch so dahin, und dann wir man natürlich auch schnell mal an seine Grenzen geführt, wenn man sowas sieht. Und da f- äh, kann einen natürlich entweder völlig demotivieren oder man sagt eben, man kann sich vielleicht erst mal n bisschen anderes einordnen nochmal, und ich glaub das hab ich dann auch getan. Ich hab gesehen, das äh, dass es bestimmt nicht, die Zukunft ist für mich, mir war das zu, zu ausufernd äh, ich, zu undefiniert und, auch zu kompliziert letzten Endes.  \n",
    "\n",
    "Weil die äh, sone Probesituation mit sechs Leuten, das ist irgendwann, äh nicht machbar. Und das hat mich dann wahnsinnig geärgert und genervt teilweise auch.  \n",
    "\n",
    "Äh, trotzdem habe ich..bis ich was Neues gefunden hab, hatte, erst mal dran festgehalten. Und das Neue, was dann, was ich dann gefunden hatte, das ging eigentlich los, nachdem ich..ähm, anfing, Auszugehen.  \n",
    "\n",
    "Und zwar nachts Auszugehen. Was so los ging, mit sechzehn, siebzehn. Also relativ äh großzügig von meinen Eltern gehandhabt, ich konnte eigentlich machen, was ich wollte, ich bin dann ähm, zunächst mal in (Name Stadt 1) ganz oft in die (Club G) gegangen, das ist so äh, das war damals so der angesagteste Musikclub. Ähm, mit ner Bühne im ersten Stock, unten Disco, oben Bühne.  \n",
    "\n",
    "Und äh, da spielten also jede Woche zwei, ich weiß gar nicht, bestimmt drei, vier Abende Bands. Oder es waren ähhh irgendwie n Off Theater oder es war irgendwie Kabarett oder es war ein Zauberer oder sonst irgendwas. Also so ist noch son son son siebziger, achtziger Jahre, Geist dagewesen, von Kleinkunst einfach, und und fünf Mark Eintritt und du kannst dir alles angucken.  \n",
    "\n",
    "Damals war die (Name Club G) auch ganz wichtig, so wie Neue Deutsche Welle. Spielten dann alle möglichen Bands. Fff- sa Die Ärzte, und Trio und ja, vor kleinem Publikum.  \n",
    "\n",
    "Uuund ähm, Nina Hagen Band und- keine Ahnung. Also ne ganz ff- ganz ganz bunte Mischung, ganz viele Leute, die dann irgendwie auch viel berühmter. Und in dieser Krone war ich dann eben bestimmt pro Woche zwei bis drei Mal. Und hab da mir die Bands angehört und ähm, ansonsten hab ich angefangen zu tanzen natürlich auch..da gabs dann entweder, sone sone ABBA bis Zappa Disco oder es war eben freitags glaube ich dann eher sone Independent Nacht. Das war immer ganz spannend, am spannendsten...Und äh von DA aus, bin ich dann..ähm, n Jahr später dann, oder schon mit sechzehn sogar, bin ich mit Freunden nach (Name Großstadt) gefahren. Und in (Name Großstadt), das war natürlich große weite Welt, damals, da gab’s nämlich ähm..n Discothek am Flughafen, und die hieß Dorian Gray.  \n",
    "\n",
    " \n",
    "\n",
    "So, und das Dorian Gray is wahrscheinlich, äh schlussendlich die Initialzündung gewesen, für das, was ich dann, seitdem eigentlich äh verfolgt habe, nämlich sone elektronische Variante, und natürlich Musik, die sich vornehmlich nachts abspielt, in Clubs, und. zu der getanzt wird und äh exzessiv gefeiert wird und so weiter und so fort.  \n",
    "\n",
    "Das bahnte sich da eigentlich an, weil das Dorian Gray war natürlich zu einen wahnsinnig interessant, weil man fast nie reinkam, das war natürlich für nen Sechzehnjährigen ganz schwierig. Man musste sich da irgendwie rausputzen und äh dann klappte es trotzdem manchmal nicht. Und wenn man dann mal drin war, war natürlich umso spannender, weil die äh, Musik, völlig außergewöhnlich war, vor allem so ab drei, vier Uhr nachts. Und die entsprechend () damals ja so Paradiesvögel des Rhein-Main-Gebietes da einliefen, ja. In den entsprechenden Klamotten und Frisuren und allem drum und dran. Und da wurde dann auch die Musik immer extremer und äh es gab n speziellen Tanzstil, und es gab offensichtlich auch bestimmte Stücke, die äh vom Publikum entsprechend gewürdigt wurden und gefeiert wurden und es gab äh zu manchen Stücken äh ne spezielle LICHT SHOW, es wurde also alles äh schon fast theatralisch irgendwo auch, in Szene gesetzt, das hat mir dann wahnsinnig imponiert.  \n",
    "\n",
    "Und ähm, nachdem ich dort war, und dann noch in der Music Hall in (Name Großstadt), die da auch aufgemacht hatte, und so die allerersten..ja, für mich damals überhaupt nicht einzuordnenden Stücke gehört habe, ähm, von denen man rückblickend sagen kann, dass das war Acid House, ja, äh, war ich eigentlich angefixt. Da gab’s ne Phase noch von zwei Jahren, da lief da unheimlich viel elektronische Musik, weil das war alles noch, ähm, so in so, in som europäischen, etwas stumpfen und und steifen Rhythmus, verhaftet, nämlich das war diese EBM, Electronic Body Music hieß das damals in der Presse. Aber das hat ja son ganz klaaaren äh, sag ich jetzt mal, son käsigen weißen Hintergrund gehabt, vom vom Rhythmus her und und hatte meistens noch was mit soner (zieht die Luft ein) hä..Düsterheit und auch son bisschen Grufti-Atmosphäre noch zu tun, und dieses, ai, (sagen wir) die amerikanische plötzlich ähm, viel tanzbarere Variante elektronischer Musik, ähm, aus aus Chicago oder Detroit..Die ich dann zum ersten Mal wahrgenommen habe.  \n",
    "\n",
    "Ähm, hatt'n gänzlich anderes Gefühl vermittelt. Das WAR für mich völlig abstrakte, äh, auch d- äh SURREALE Tanzmusik letzen Endes. ,  \n",
    "\n",
    "Das heißt, Vocals, oder Texte spielten ja keine Rolle mehr, es waren vielleicht noch Wortfetzen, die äh ersten..Sampler, äh Billig Sampler sind da eben eingesetzt worden, und die konnten ja nicht viel speichern. da Entsprechend fiel dann auch äh, sp- fielen dann auch die die Texte so (lacht) KURZ aus und die Musik wurde ja damals schon eben mit den entsprechenden, Drei Uhr Maschinen des Techno gemacht, ja so irgendwelche äh BILLIGEN Roland Drum Computer und Baseline Synthesizer, ähm, ähm, und und trotzdem hat diese Musik halt ne ne extreme Kraft entwickelt, jam, und da hab ich also zum ersten Mal dann eben mir auch die Nächte um die Ohren getanzt und fand das also wahnsinnig spannend. Und dann ist n Freund von mir, ähm..auf Klassenfahrt nach London gefahren..Das dürfte auch so Siebenundachtzig gewesen sein. Und da war in, in London äh, hörte man dann ja gerade so äh irgendwie auch hier bei uns manchmal was von soner Acid House Explosion und Welle.  \n",
    "\n",
    " \n",
    "\n",
    "Und der kam zurück, und war also völlig ähm, angefixt, kam zurück mit irgendwie diversen Mix Tapes aus London, mit äh Schallplatten, und äh ist dann selbst abends auch in in in irgendne PARTY geraten und kam da auch nicht mehr raus und war also VÖLLIG, hin und weg.  \n",
    "\n",
    "Und das ging also auch hier los. Dass man die Musik dann eben anfing, zusammen zu hören und sich gefragt hat, was das denn überhaupt alles ist, es gab ja kein Internet oder irgendwas, wo man sich dann mal informieren konnte, sondern man musste tatsächlich mal warten, bis sone Schallplatte mal ankam, hier irgendwo im Plattenladen.  \n",
    "\n",
    "Und ähm, das..ist dann äh, ja vielleicht n Jahr später passiert, aber dazu komm ich noch. Denn vorher ähm, muss man vielleicht noch sagen, dass ich in dem Augenblick, wo ich diese Musik gehört hab, ebnen mit der BAND nicht mehr so wahnsinnig viel zu tun, haben wollte, weil ich mir gedacht hab, da stimmt irgendwas nicht, das andere ist viel interessanter, viel spannender.  \n",
    "\n",
    "Ich möcht mich darauf mal fixieren. Und äh, hab dann, ähm, ja, so Achtn...na-, Sechsundachtzig, Siebenundachtzig dürfte s auch gewesen sein, hab ich mir meine ersten Schlagzeugcomputer gekauft, so. Also gar keinen Synthesizer, sondern son Drumcomputer und das war, glaub ich damals n Gerät von KAWAI, das ist ständig abgestürzt, weil das fff- einfach nicht ausgereift war. Und dann hab ich das Gerät zurückgebracht, und hab äh, vom äh Verkäufer ne ROLAND Schlagzeugcomputer bekommen, die natürlich auch die Sache viel besser im Griff hatten, das Ding lief also und hatte auch entsprechende Sounds, die äh, tatsächlich auch in diesen Produktionen, die ich da zum ersten Mal hörte, irgendwie auch vorkam, ja. Deswegen weiß ich, war ich also wahnsinnig glücklich, mit diesem Ding. Und ich hatte dann, mich zu Hause zum ersten Mal hingesetzt und hatte, diesen Drumcomputer, ähm, ein Effektgerät, von Ibanez, son Gitarreneffektgerät, mit Chorus, Hall und Delay.  \n",
    "\n",
    "Und, einen...Billigsampler ähm, von, was war das denn noch gleich..Casio, der grade mal ne Sekunde Sampling Zeit hatte oder oder zwei Sekunden. Und damit hab ich mich hingesetzt und ich hatte keinen Computer.  \n",
    "\n",
    "Und hab dann mir irgendwann ne Vierspur-Cassettenrecorder Maschine gekauft, nachdem ich irgend n komischen Ferienjob wieder gemacht hatte, und hab dann zu Hause angefangen, äh Vierspur-Aufnahmen zu machen und zwar ohne Sequenzen (r) sondern NUR der Drumcomputer hat den Rhythmus vorgegeben und ich hab dann mit diesem Effekt-Geräten, äh hab ich dann Geräusche fabriziert, hab die da irgendwie äh drüber gebaut, mit vier Spuren. Und das Ganze irgendwie als äh, Tracks arrangiert äh, mit dem kleinem Sampler noch.  \n",
    "\n",
    "Das war so das aller erste Mal, dass ich mich dann zu Hause hinsetze und irgendwas selbst elektronisch produziert hab letzten Endes..Und dann hab ich angefangen, mir meinen ersten Synthesizer zu leihen, zunächst mal, und dann ähm, war das natürlich so, dass ich dann gar nicht mehr auf--hören konnte, weil ich plötzlich gemerkt habe, was ich da so für Möglichkeiten habe und äh, die Band wurde also noch uninteressanter. Ich bin dann WAHNSINNIG viel ausgegangen, äh, war ähm, das ist dann zusammengefallen mit einer, mit einem Ereignis in (Name Großstadt), was ja unheimlich WICHTIG war rückblickend, das war die Eröffnung von diesem O Club, hier in (Name Großstadt) in der, Sp- ähh in der Innenstadt, S ging ja damals dann aus'm D weg, und äh hat zusammen mit 'n mit n paar Partnern äh, das Omen eröffnet.  \n",
    "\n",
    "Ja und von diesem Tag an, von der Eröffnung, die ich auch miterlebt habe, würd ich sagen, war ich da zwei Mal in der Woche. Weil das war eigentlich, das war damals kann man sich auch nicht mehr vorstellen, jeden Tag geöffnet, son Club. Ja, und und äh es gab Montag den Blue Monday zum Beispiel, an dem, äh wenn Frauen mitgekommen sind, hatten die kostenlosen Eintritt und kosten- konnte kostenlos Trinken, das ist auch ne Sache, die gibt's heute irgendwie auch nicht mehr glaube ich. Und man ging da also irgendwie hin, nahm jemand mit, konnte was trinken, blieb dann dort, vielleicht nicht bis morgens aber doch bis zwei oder drei.  \n",
    "\n",
    "Die Musik war spannend. Ähm, wenn wenn wenn S persönlich aufgelegt hat, war's am spannendsten damals für uns schon, wir haben gemerkt, da geht irgendwas Besonderes los. Ähm, da war auch die, warn die meisten Leute da, die interessantesten Leute.  \n",
    "\n",
    "Und er hat auch den bizarrsten, Mix gespielt. Also er hat ja damals noch ähm- das war nicht so klar, was sich aus dieser Keimzelle so entwickeln würde, äh s- Acid House, das Wort Techno, kannte man eigentlich noch gar nicht so richtig.  \n",
    "\n",
    "Und ähm...da liefen eben vorher ganz normale irgendwelche ähhh, ja, tanzbaren Soul und Funkstücke teilweise bis bis um Zwei äh, irgendwann lief Hells Bells von AC DC und danach kam das erste Acid House Stück oder sowas. .  \n",
    "\n",
    "Das war also ne ganz krude, Mischung ähm und und das hat das damals irgendwie auch ausgemacht, dass man gar nicht so genau wusste, wo's hingehen würde. Ähm..aber man hat gemerkt, es passiert irgendwas ganz Neues. Und und plötzlich merkte man aber auch wie stark die Leute eben auf diese NEUE Musikform reagieren, entsprechend haben die DJs immer mehr von dieser Musikform dort eingesetzt. S haben angefangen, äh, die DJs haben ja angefangen, also der Sven war ja einer der ersten, die überhaupt ins AUSLAND gefahren sind.  \n",
    "\n",
    "Um Platten aufzulegen. Er kam natürlich dann zurück mit den entsprechenden Schallplatten, die es hier nicht gab. Und ähm, hat angefangen, eben diese Abende auch zu, zu präsentieren mit Künstlern, mit anderen DJs aus andern Ländern. Vornehmlich eben damals aus äh, England, oder eben auch mal aus Spanien also d- d- Ibiza war ja damals schon für sone gewisse Szene n Begriff. Und ähm, hinzukam noch, dass in (Name Großstadt) äh, schon in achtziger Jahren n n Plattenladen existierte, der hieß Boy Records.  \n",
    "\n",
    "Und Boy Records hat anfangs meine ich vornehmlich so. eben EBM Platten verkauft. Electronic Body Music. Und ähm, fing dann aber ganz schnell an, eben auch, diese neuen Platten aus England und Amerika zu verkaufen. Und das hat dazu geführt, dass ganz viele Leute, samstags vornehmlich in diesem Plattenladen standen und ham sich diese Musik angehört. Häufig auch ähm, samstags im Plattenladen standen, nachdem sie überhaupt erst aus irgendnem Club rausgefallen waren. Das heißt, man i- hat irgendwo gefeiert und am nächsten Tag hat man sich die Platten auch noch gekauft. Die man am Abend gehört hatte.  \n",
    "\n",
    "Und ähm..diese äh Sache, war dann doch sehr, beeindruckend, ich war natürlich auch dann Stammgast in diesem Laden, man konnte auch in diesem Laden zum Beispiel, ( )äh.. ham sich äh, zum ersten Mal Musiker ausgetauscht, über so, Möglichkeiten, wie man son- seinen seinen Set Up zu Hause anfängt zu SYNCHEN, ja, also wie man son Synthesizer syncht mit nem Drumcomputer und vielleicht, mit den allerersten ähm, Heimcomputern, die dann irgendwie auch als Musik, als also als Taktgeber schon fungierten. Das ging da also AUCH los...Und ähm. jetzt muss ich mal überlegen, wie's dann weiterging. Ich hab da natürlich nach wie vor in dieser Band gespielt, parallel dazu diesen eben NACHTS entdeckt. Was man da alles so machen kann. \n",
    "\n",
    "Und hab dann..die Band verlassen. Genau. Die Band hab ich verlassen, da war ich..da war ich vielleicht ähm neunzehn oder zwanzig. Ich hab dann äh Zivildienst gemacht und der Zivildienst hat natürlich die, eben also ich hatte nie wieder mehr Zeit als beim Zivildienst und auch nie wieder mehr Geld im Verhältnis, weil äh, das war ja äußerst praktisch, man konnte irgendwie relativ wenig arbeiten und viel Geld verdienen und äh wenig schlafen und trotzdem ähm hat keiner gefragt, ähm, hat keiner nach mehr Leistung verlangt und ich hatte da n super Job und bin natürlich entsprechend NOCH mehr ausgegangen. Und hab dann  \n",
    "\"\"\""
   ]
  },
  {
   "cell_type": "code",
   "execution_count": 3,
   "id": "12c338e8-81af-463c-84f1-8da77393a30b",
   "metadata": {},
   "outputs": [
    {
     "name": "stdout",
     "output_type": "stream",
     "text": [
      "0 30201\n"
     ]
    }
   ],
   "source": [
    "print(len(out),len(text))"
   ]
  },
  {
   "cell_type": "code",
   "execution_count": 4,
   "id": "22de6557-8982-4474-9e8f-de6a544aca2b",
   "metadata": {
    "collapsed": true,
    "jupyter": {
     "outputs_hidden": true
    }
   },
   "outputs": [
    {
     "name": "stdout",
     "output_type": "stream",
     "text": [
      "\n",
      "I: \tJa, er nimmt das auf, so und jetzt ist, hatte einmal vergessen, da Files zu löschen, das war echt total übel.  \n",
      "\n",
      "A:\tDas sollte auch, ja, der Ausschlag ist auf jeden Fall zu sehen  \n",
      "\n",
      "I: \tDas nimmt dich auf, das nimmt dich auf.  \n",
      "\n",
      "A:\tBin ich schon dran?  \n",
      "\n",
      "I: \tDu bist schon dran, ALSO. Ich möchte dich bitten, deine Lebensgeschichte zu erzählen, also nicht nur, über die Zeit jetzt auch jetzt davor, wenn du dich noch mal zurückversetzen magst, ähm, ja, also nicht nur die Stationen, so als Aufzählung, sondern auch immer, irgendwie, was dich beeinflusst hat, dein, dein Umfeld vielleicht, ähm, das dich beschäftigt hat, und ja.  \n",
      "\n",
      "A: \tOkay, also ich denk mal, ich fang mal ganz früh eigentlich, und zwar in dem- zu dem Zeitpunkt äh, als mich Musik vielleicht zum ersten Mal, ähm, bewusster, ähm, getroffen hat, und zwar würd ich sagen, war das äh circa Neunzehnhundertvierundsiebzig, als ich VIER Jahre als war.  \n",
      "\n",
      "Und ähm, seiner Zeit mit meiner Mutter durch die Fußgängerzone, in (Name Stadt 1) gelaufen bin. Und habe ähm, ja irgendwelche Indio-Musiker aus den Anden spielen sehen, und die waren natürlich entsprechend äh als Indios auch, zu erkennen. In ihren äh traditionellen Kostümen, und mit ihren traditionellen Instrumenten und äh, den hab ich also SEHR gespannt zugehört.  \n",
      "\n",
      "Und daraufhin hat meine Mutter zu Hause eine Schallplatte aus ihrer Plattensammlung rausgeholt, mit Indio-Musik. Und äh, diese Schallplatte sollte also dann regelmäßig für mich aufgelegt werden, ich hab das also dann sehr gerne gehört, und äh, hinzukam noch, dass diese Schallplatte noch ne andere Funktion hatte erfüllte, denn, meine Mutter dachte dann, in dem Augenblick, wo ich die Musik gerne mögen würde, würde ich auch die entsprechende Kleidung mögen, und kaufte mir eine Wollmütze (lacht). Eine südamerikanische. Die ich aber ablehnte, und über die Musik, die äh, an dem- an die ich mich- an der mich- an der ich mich aber gefreut habe, äh, freute ich mich irgendwann auch an der Wollmütze, das ist meine erste Erinnerung an Musik und irgend ne emotionale Verbindung.  \n",
      "\n",
      " \n",
      "\n",
      "Ähm, ich bin dann..vielleicht ein Jahr später..ähm, erneut mit meiner Mutter die eigentlich da den größten Einfluss ausgeübt hat, in die Oper gegangen, zum aller ersten Mal, und zwar in, äh, ich kann mich an das Stück nicht mehr erinnern, was das war, aber ich kann mich an diverse Szenen noch erinnern und kann mich daran erinnern, dass es mir doch sehr schwer gefallen ist, da irgendwie äh n Faden zu behalten, ähm, aber das war die erste, das erste Erlebnis äh, von ähm, Musik in sonem ja eher klassischen Kontext, und äh, im selben Zeitraum bin ich dann Sonntags mit meinem Vater ganz häufig, zu 'som musikalischen Frühschoppen gegangen (lacht). Und da spielten diverse, Amateurbands oder auch semi-professionelle Bands, äh, unterschiedlichste Art von Musik soweit ich mich erinnern kann.  \n",
      "\n",
      "Und zwar war das, spielte sich das damals ab, im Staatstheater (Name Stadt 1). Im FOYER. Das war also sonntags n regelmäßiger Ausflug. Ähm, weiter ging’s, mit sechs, n, halb Jahren, da kauften nämlich die Nachbarn meiner Eltern ein Klavier, und die beiden Nachbarskinder fingen an, Klavier zu spielen. Und äh, ich wurde gefragt, ob ich nicht auch gerne Klavier spielen lernen wollte, und das äh hab ich bejaht und dann bin ich im ersten halben Jahr, ähm, zum Üben noch zu den Nachbarn gegangen, weil meinen Eltern erst mal abwarten wollten, ob sich das so, äh, ob sich diese, diese Freude so'n bisschen, äh, verfestigt.  \n",
      "\n",
      "Und das hat sie aber auch dann getan, ich hab dann äh, den, meinen ersten Klavierlehrer gehabt, hab also regelmäßig, jede Woche Klavierstunde gehabt.  \n",
      "\n",
      "Und äh, da war ich dann knapp sieben, würde ich sagen. Und dann ging das eigentlich richtig los, ich hab mich dann, parallel dazu, ähm, angefangen, SEHR für Musik zu interessieren, für die Plattensammlung meiner Eltern, die natürlich entsprechend aus 'soner Single Kollektion aus den Fünfzigern und sechziger Jahren stammt, und diversen, ähm, ja, Langspielplatten, ähm, vornehmlich aus'n sechziger und frühen siebziger Jahren, also eher so ff- Folk äh angehauchte Sachen.  \n",
      "\n",
      "Bisschen Rolling Stones, Beatles natürlich mit dabei, ähm, nichts Exotisches, aber doch zumindest so'n gewisser Einstieg. Und ich hab dann, ähm, im Jahre Siebenundsiebzig, meine erste Langspielplatte gekauft, von meinem Taschengeld.  \n",
      "\n",
      "Ähm, und zwar- oder hab was dazugegeben, wahrscheinlich, und zwar war das damals so, dass meine Eltern beim Deutschen Bücherbund waren, das kann ich noch genau erinnern, und da konnte man sich irgendwie einmal im Quartal oder sowas, irgendwas AUSSUCHEN.  \n",
      "\n",
      "So, und das war also äh wieder mal der Fall, und äh, ich ging also zu diesem deutschen Bücherbund-Shop, wieder mal mit meiner Mutter. Man konnte sich die Schallplatten an einem Kopfhörer mit nur einer Hörmuschel anhören, das ist auch also, heute gar nicht mehr vorstellbar, und ähm, man bekam diese Platte aufgelegt, für mich wars ähm, ne Platte von Rolling Stones natürlich, weil meine Eltern die eben auch im Plattenschrank hatten, es war die Some Girls, die- ich glaub die kam die sogar Siebenundsiebzig raus.  \n",
      "\n",
      "Und, das war meine aller erste selbst äh, erworbene Schallplatte. Naja, und dann, ist ganz ganz wichtig zu sagen, dass neben diesem Klavierunterricht, den ich halt IMMER hatte, ähm, ich einen unheimlich.musikalischen Onkel, hatte.  \n",
      "\n",
      "Bis letztes Jahr, wohlgemerkt. Der ähm, ne Stunde von uns ent- uns entfernt wohnt, in Dietz an der Lahn, und äh, der damals schon, obwohl er eigentlich tagsüber was ganz anderes gemacht hat, ein unheimlich, ja, eingerichtetes Musikzimmer hatte. Das heißt, da stand also alles drin, vom Flügel über äh, damals schon Synthesizer, Orgel, äh bis hin zu jeglicher Form von E-Gitarre, akustischer Gitarre, Klarinette, Trompete, Saxophon, ähm, alle möglichen Schlaginstrumente, bis hin zum Schlagzeug, was sein einer Sohn auch spielte.  \n",
      "\n",
      "Und das war natürlich n gefundenes Fressen, ich hab dann, da regelmäßig meine Sommerferien verbracht, teilweise eben bis zu drei, vier Wochen, da gewohnt, ähm, hab mich da austoben können, nach Lust und Laune.  \n",
      "\n",
      "Es war auch mein erster Kontakt natürlich zu elektronisch erzeugter Musik, weil eben äh, Synthesizer waren mir völlig unbekannt vorher, ähm, gleiches galt eben auch für VERSTÄRKER und auch die entsprechenden äh auch Orgelverstärker mit diesen mit diesen äh sich drehenden Hörnern oben und man also schon damals irgendwelche Klang, Effekte machen, die ff- bei mir zu Hause natürlich unvorstellbar waren. Und ähm, dort bin ich auch dann dazu gekommen, zum ersten Mal in meinem Leben Schlagzeug zu spielen.  \n",
      "\n",
      "Also mein Cousin, zwei Jahre älter als ich, spielte glaube ich schon seit dem er sieben oder acht war, und, wir befinden uns jetzt ungefähr schon im Jahreeee neunundsiebzig oder achtzig. Und damals kam ne Platte raus von John Lennon und Yoko Ono, und äh (beide lachen), da war diese Stück eben drauf. Äh, wie heißt es noch gleich, Imagine. So. Imagine, ähm, ist ja nicht nur'n tolles Popstück sondern es hat ja n unheimlich leichten Rhythmus auch, ja schlussendlich, und ich b- na setzte mir also die Kopfhörer auch und fing also an, zu Imagine, zu trommeln. ..Und ähm in dem Augenblick, wo ich das so'n bisschen raus hatte und äh- wollt ich auch gar nicht mehr aufhören, ich hab also immer weiter getrommelt, halt irgendwie jedes Mal noch andere Musik aufgelegt, ähm, kam also von diesem Schlagzeug auch nicht mehr weg. ..Und, dann kam's also dazu, dass noch ein Jahr verging, und äh alle gemerkt haben, der kommt, nicht nur vom Klavier nicht mehr richtig weg, sondern auch vom Schlagzeug nicht mehr, und sich dann schließlich mein Onkel eines Nachmittags als er eben in das Zimmer, in das Musikzimmer mal reinkam in den Ferien, mal mich spielen hörte und äh meinen Eltern sagte, der braucht n Schlagzeug, der ist irgendwie talentiert, hat Rhythmusgefühl.  \n",
      "\n",
      " \n",
      "\n",
      "Ja, für meine Eltern war das natürlich damals ähm..nicht leicht, sofort ja zu sagen, weil irgendwie kein Musikzimmer außer halt äh im Wohnzimmer zu Hause und n Schlagzeug ist halt doch was anderes, als n Klavier und, ich hab natürlich äh, da nicht locker gelassen, ich hab ja noch n- noch mehr Ferien da verbracht, noch mehr Tag im Onkel im Haus und ja und irgendwann hat der mir einen Scheck geschickt, das war der erste Scheck meines Lebens, über tausendfünfhundert D-Mark so.  \n",
      "\n",
      "Und tausendfünfhundert D-Mark mit der- mit der Auflage, mir davon ein Schlagzeug zu kaufen.  \n",
      "\n",
      "So, das war halt mein Onkel, da muss man sagen, dem hab ich also sehr sehr viel zu verdanken, ähm, da gab’s dann keinen Weg mehr zurück, ich ging also dann, in das ortsansässige Musikgeschäft in (Name Stadt 1), Musikhaus Krusius, wo ich mich eh schon dauernd aufgehalten habe, weil ich, äh, bestimmt ein zwei Mal die Woche da geguckt habe, was es da so gibt.  \n",
      "\n",
      "Äh, an Synthesizern vor allem und an allen, möglichen Sachen, die mich damals schon interessiert haben, weil sie einfach ungewöhnliche Klänge erzeugt haben, und da, ähm, bin ich also hin...und wie es der Zufall so wollte, war der Verkäufer auch noch n alter Freund meines Vaters und die hatten sich schon f- fünfzehn, zwanzig Jahre nicht mehr gesehen, also es gab n großes Hallo und ich bekam ein, Schlagzeug. Ne Tama Swingstar. In blau. Und dieses Schlagzeug (beide lachen) kam natürlich nicht ins Wohnzimmer, sondern kam bei uns in den Keller, im Haus.  \n",
      "\n",
      " \n",
      "\n",
      "Und der Keller war in keinster Weise isoliert oder irgendwas, und ich hab das Schlagzeug da aufgestellt, und hab dann immer, best- also jeden- jeden Nachmittag ab drei Uhr bestimmt äh, ja, bis ich halt nicht mehr konnte gespielt.  \n",
      "\n",
      "Die Nachbarn haben sich, NICHT gefreut aber haben sich auch nicht, das war halt wirklich ziemlich laut zu hören, aber, aus irgendeinem Grund ging das alles durch.  \n",
      "\n",
      "Hab parallel noch Musik- äh und Klavierunterricht gehabt. Und kann mich da noch dran erinnern, dass mein Klavierlehrer überhaupt nicht erfreut war. Ich hab das Schlagzeug glaube ich Zweiundachtzig bekommen. Und mein Klavierlehrer fand das also ne ganz schlechte Idee, der hat sich gesagt, dass äh, ähm, mit dem Klavier sollte doch eigentlich reichen, der issss, der kann spielen, der hat irgendwie ähm- ist in der Lage, äh- bei- chh- konnte angeblich immer besonders gut Bach spielen und äh ich war in der Lage irgendwo eher s- so, auch analytisch an die Musik heranzugehen, und er sagt- und er hat eben vermutet, dass ich- dass ich durch das Schlagzeug spielen, da die- das Feingefühl, verlieren würde, für den Rest, den ich halt mache.  \n",
      "\n",
      " \n",
      "\n",
      "Aber es war eben nicht zu ändern, ich wollte es halt unbedingt, und, ähm, hab dann auch weiterhin Klavier gespielt, kann mich auch nicht daran erinnern, dass das Schlagzeug da, n Problem war, weder für meine Ohren noch für irgendwie den, sag ich mal, äh Einsatz beim Üben.  \n",
      "\n",
      "Nur es hat natürlich eine weitere Folge gehabt, Schlagzeug Spielen macht ja allein überhaupt keinen Spaß. Und dann hab ich, damals, im Keller eben gesessen und geübt und geübt und geübt und mein Bruder, der fünf Jahre älter ist als ich, der hatte damals Gitarre gespielt, und hatte Freund, die auch in ner Band spielten, und ähm, diese Freunde waren natürlich oft auch mal bei meinem Bruder zu Besuch.  \n",
      "\n",
      "Und die hörten mich dann spielen im Keller, uuund, äh, irgendwann haben die gesagt, der der spielt gut genug für uns, wir fragen den, ob der mit zu uns spielen will, weil die haben grad noch n Schlagzeuger gesucht.  \n",
      "\n",
      "Die waren natürlich alle sechzehn, siebzehn, Jahre alt, ich war halt zwölf. Und da hab ich sofort gesagt, klar, mach ich.  \n",
      "\n",
      "Also, ich würde gern in ner Band spielen..und, war plötzlich Schlagzeuger in ner Band, die hieß, Tonic (lacht), wie Tonic Water, ja.  \n",
      "\n",
      "Uuuund, rückblickend natürlich ne furchterregende, Angelegenheit, wir haben damals so äh, die waren halt ganz- sie wollten eigentlich so FUNK spielen und irgendwelche so ja (Laute der deutlichen Abneigung), irgendwie amerikanisch, soulig angehauchten Stücke, das ist natürlich äh, waren, waren natürlich weit entfernt davon, so was hinzukriegen, aber, es hat mich zumindest, äh, zu der Musik heran- äh- rangeführt.  \n",
      "\n",
      "Das heißt, ich hab ganz viele Platten wieder bekommen äh, konnt mir ganz viele Platten aufnehmen, hab völlig neue Einflüsse gehabt, und hab da eben, dann vielleicht auch zum allerersten Mal, ähm, so äh mitbekommen, was es eigentlich heißt, so'n Groove zu entwickeln. Oder eben so' n so- ja, irgendwas zu machen, was den Leuten eben ins eh- in die Beine äh geht, und hab mich entsprechend als Schlagzeuger immer ferngehalten, von da ab auch, äh, von irgendwelchen Rockbands oder solchen Geschichten.  \n",
      "\n",
      "Man muss dazu auch sagen, dass ich eigentlich..rückblickend so den schlechtesten Musikgeschmack hatte ich bestimmt gehabt, eben zwischen so zehn und fünfzehn, also diese ganze Teenie-Geschichte, die führt ja dazu, dass man, dass man eigentlich von ganz vielen Dingen abgehalten wird, die eigentlich viel interessanter sind. Und man fällt eben rein auf irgendwelche plakative Musik oder. Für mich wars eben, ich war wahnsinnig äh, enthusiastischer Kiss Fan, ne Zeit lang ja, und äh, Hard Rock, Heavy Metal fand ich super, na klar, hat auch irgendwie jeden genervt, außer miiir, und das findet man ja auch gut, in dem Alter, aber eben diese Band hat dann eben auch gezeigt, da gibt's noch n paar andere Sachen, und dann haben die mir, keine Ahnung, damals, so Earth Wind and Fire vorgestellt, Commodores, ähm, irgendwelche Soulplatten, ehhh ja. Ganz unterschiedliche Sachen.  \n",
      "\n",
      " \n",
      "\n",
      "Das war also glaub ich rückblickend ganz gut, dass ich da gemerkt hab, es gibt eben nicht nur ähm, AC DC und Motörhead, wobei das dann ja später wieder auf ne, andere Art zurückkam. Aber das kommt dann noch. Gut.  \n",
      "\n",
      "Und dann..hab ich da also jahrelang erst mal mit dieser Band gespielt. Ich hab dann meine ersten Auftritte, gehabt. Mit, ja eben auch relativ schnell, mit zwölf, dreizehn auf Schülerfesten.Und ähm.auf diesen Schülerfesten hab ich auch erste mal- zum ersten Mal so Erfahrungen gesammelt, was es überhaupt heißt, vor Publikum zu stehen, was als Schlagzeuger immer noch ganz gut ist, weil man ja ganz hinten steht, ich wär also niemals auch damals in der Lage gewesen, irgendwie vorne Gitarre zu spielen oder irgendwas dergleichen, weil ich immer sehr, zurückhaltend, was das betrifft und deswegen wollte ich auch niemals SÄNGER werden.  \n",
      "\n",
      "Und ähm, hab dann, da in dieser Band gespielt, bis die alle siebzehn, achtzehn waren, und natürlich entsprechend die Stadt verlassen haben. Weil ganz viele von denen haben dann studiert, sind irgendwo anders hingegangen, die Band hat sich also aufgelöst. Ich denke mal das war dann so, Vierundachtzig, oder sowas um den Dreh.Und ähm, da hat sich aber was Neues angebaaahnt, ähm...ich hab dann mit, Freunden, oder Leuten, die ich auch dann erst kennen gelernt habe, weil man- irgendwie hatte ich glaube ich- hatte sich mein Name rumgesprochen, ich häh wär da irgendwie zu haben und ich hätte auch n Proberaum, wo die Band auch vorher gespielt hat und es war also alles wieder, ähm, offen, letzen Endes.  \n",
      "\n",
      "Und dann hab ich neue Leute gefunden, oder auch äh haben sich Leute vorgestellt, meine ich, ja, äh, und wir 'ham ne Band gegründet, erneut, die dann noch mal so'n bisschen anspruchsvoller werden sollte, und das war dann so ne JAZZ-FUNK-BAND ja, also mit so, da war ich vielleicht sechzehn. Fünfzehn, sechzehn, siebzehn, uund ähm, es sollte also jetzt immer, äh, komplizierter werden alles, wir hatten dann uns die wildesten Arrangements irgendwie ausgedacht, und es wurde alles wahnsinnig aus- UFERND und äh, jeder wollte sich an seinem Instrument irgendwie auch überbieten, ähm (seufzt), rückblickend natürlich ne ganz..zweifelhafte Angelegenheit.  \n",
      "\n",
      "Also Musik, die Qualität blieb oft irgendwie auf der Strecke, die Ambitionen waren einfach zu hoch würde ich sagen, es blieb irgendwas auf der Strecke, aber es war zumindest, auch wieder sehr lehrreich, weil, es waren glaub ich fünf oder sechs Leute, man musste sich irgendwie mittönender auch arrangieren. Und, wir 'Häm auch so Erfahrungen gemacht, dass wir mal ins Ausland gefahren sind, wir hatten mal in Frankreich gespielt und Häm äh, sind dann auch..weil der Pianist, der der Einzige, der richtig gut war war, würde ich sagen, in der Kapelle. Und dessen Vater hatte so Verbindungen zu diversen Jazz Festivals weil er selbst da schon aufgetreten war und der brachte uns dann auch so dahin, und dann wir man natürlich auch schnell mal an seine Grenzen geführt, wenn man sowas sieht. Und da f- äh, kann einen natürlich entweder völlig demotivieren oder man sagt eben, man kann sich vielleicht erst mal n bisschen anderes einordnen nochmal, und ich glaub das hab ich dann auch getan. Ich hab gesehen, das äh, dass es bestimmt nicht, die Zukunft ist für mich, mir war das zu, zu ausufernd äh, ich, zu undefiniert und, auch zu kompliziert letzten Endes.  \n",
      "\n",
      "Weil die äh, sone Probesituation mit sechs Leuten, das ist irgendwann, äh nicht machbar. Und das hat mich dann wahnsinnig geärgert und genervt teilweise auch.  \n",
      "\n",
      "Äh, trotzdem habe ich..bis ich was Neues gefunden hab, hatte, erst mal dran festgehalten. Und das Neue, was dann, was ich dann gefunden hatte, das ging eigentlich los, nachdem ich..ähm, anfing, Auszugehen.  \n",
      "\n",
      "Und zwar nachts Auszugehen. Was so los ging, mit sechzehn, siebzehn. Also relativ äh großzügig von meinen Eltern gehandhabt, ich konnte eigentlich machen, was ich wollte, ich bin dann ähm, zunächst mal in (Name Stadt 1) ganz oft in die (Club G) gegangen, das ist so äh, das war damals so der angesagteste Musikclub. Ähm, mit ner Bühne im ersten Stock, unten Disco, oben Bühne.  \n",
      "\n",
      "Und äh, da spielten also jede Woche zwei, ich weiß gar nicht, bestimmt drei, vier Abende Bands. Oder es waren ähhh irgendwie n Off Theater oder es war irgendwie Kabarett oder es war ein Zauberer oder sonst irgendwas. Also so ist noch son son son siebziger, achtziger Jahre, Geist dagewesen, von Kleinkunst einfach, und und fünf Mark Eintritt und du kannst dir alles angucken.  \n",
      "\n",
      "Damals war die (Name Club G) auch ganz wichtig, so wie Neue Deutsche Welle. Spielten dann alle möglichen Bands. Fff- sa Die Ärzte, und Trio und ja, vor kleinem Publikum.  \n",
      "\n",
      "Uuund ähm, Nina Hagen Band und- keine Ahnung. Also ne ganz ff- ganz ganz bunte Mischung, ganz viele Leute, die dann irgendwie auch viel berühmter. Und in dieser Krone war ich dann eben bestimmt pro Woche zwei bis drei Mal. Und hab da mir die Bands angehört und ähm, ansonsten hab ich angefangen zu tanzen natürlich auch..da gabs dann entweder, sone sone ABBA bis Zappa Disco oder es war eben freitags glaube ich dann eher sone Independent Nacht. Das war immer ganz spannend, am spannendsten...Und äh von DA aus, bin ich dann..ähm, n Jahr später dann, oder schon mit sechzehn sogar, bin ich mit Freunden nach (Name Großstadt) gefahren. Und in (Name Großstadt), das war natürlich große weite Welt, damals, da gab’s nämlich ähm..n Discothek am Flughafen, und die hieß Dorian Gray.  \n",
      "\n",
      " \n",
      "\n",
      "So, und das Dorian Gray is wahrscheinlich, äh schlussendlich die Initialzündung gewesen, für das, was ich dann, seitdem eigentlich äh verfolgt habe, nämlich sone elektronische Variante, und natürlich Musik, die sich vornehmlich nachts abspielt, in Clubs, und. zu der getanzt wird und äh exzessiv gefeiert wird und so weiter und so fort.  \n",
      "\n",
      "Das bahnte sich da eigentlich an, weil das Dorian Gray war natürlich zu einen wahnsinnig interessant, weil man fast nie reinkam, das war natürlich für nen Sechzehnjährigen ganz schwierig. Man musste sich da irgendwie rausputzen und äh dann klappte es trotzdem manchmal nicht. Und wenn man dann mal drin war, war natürlich umso spannender, weil die äh, Musik, völlig außergewöhnlich war, vor allem so ab drei, vier Uhr nachts. Und die entsprechend () damals ja so Paradiesvögel des Rhein-Main-Gebietes da einliefen, ja. In den entsprechenden Klamotten und Frisuren und allem drum und dran. Und da wurde dann auch die Musik immer extremer und äh es gab n speziellen Tanzstil, und es gab offensichtlich auch bestimmte Stücke, die äh vom Publikum entsprechend gewürdigt wurden und gefeiert wurden und es gab äh zu manchen Stücken äh ne spezielle LICHT SHOW, es wurde also alles äh schon fast theatralisch irgendwo auch, in Szene gesetzt, das hat mir dann wahnsinnig imponiert.  \n",
      "\n",
      "Und ähm, nachdem ich dort war, und dann noch in der Music Hall in (Name Großstadt), die da auch aufgemacht hatte, und so die allerersten..ja, für mich damals überhaupt nicht einzuordnenden Stücke gehört habe, ähm, von denen man rückblickend sagen kann, dass das war Acid House, ja, äh, war ich eigentlich angefixt. Da gab’s ne Phase noch von zwei Jahren, da lief da unheimlich viel elektronische Musik, weil das war alles noch, ähm, so in so, in som europäischen, etwas stumpfen und und steifen Rhythmus, verhaftet, nämlich das war diese EBM, Electronic Body Music hieß das damals in der Presse. Aber das hat ja son ganz klaaaren äh, sag ich jetzt mal, son käsigen weißen Hintergrund gehabt, vom vom Rhythmus her und und hatte meistens noch was mit soner (zieht die Luft ein) hä..Düsterheit und auch son bisschen Grufti-Atmosphäre noch zu tun, und dieses, ai, (sagen wir) die amerikanische plötzlich ähm, viel tanzbarere Variante elektronischer Musik, ähm, aus aus Chicago oder Detroit..Die ich dann zum ersten Mal wahrgenommen habe.  \n",
      "\n",
      "Ähm, hatt'n gänzlich anderes Gefühl vermittelt. Das WAR für mich völlig abstrakte, äh, auch d- äh SURREALE Tanzmusik letzen Endes. ,  \n",
      "\n",
      "Das heißt, Vocals, oder Texte spielten ja keine Rolle mehr, es waren vielleicht noch Wortfetzen, die äh ersten..Sampler, äh Billig Sampler sind da eben eingesetzt worden, und die konnten ja nicht viel speichern. da Entsprechend fiel dann auch äh, sp- fielen dann auch die die Texte so (lacht) KURZ aus und die Musik wurde ja damals schon eben mit den entsprechenden, Drei Uhr Maschinen des Techno gemacht, ja so irgendwelche äh BILLIGEN Roland Drum Computer und Baseline Synthesizer, ähm, ähm, und und trotzdem hat diese Musik halt ne ne extreme Kraft entwickelt, jam, und da hab ich also zum ersten Mal dann eben mir auch die Nächte um die Ohren getanzt und fand das also wahnsinnig spannend. Und dann ist n Freund von mir, ähm..auf Klassenfahrt nach London gefahren..Das dürfte auch so Siebenundachtzig gewesen sein. Und da war in, in London äh, hörte man dann ja gerade so äh irgendwie auch hier bei uns manchmal was von soner Acid House Explosion und Welle.  \n",
      "\n",
      " \n",
      "\n",
      "Und der kam zurück, und war also völlig ähm, angefixt, kam zurück mit irgendwie diversen Mix Tapes aus London, mit äh Schallplatten, und äh ist dann selbst abends auch in in in irgendne PARTY geraten und kam da auch nicht mehr raus und war also VÖLLIG, hin und weg.  \n",
      "\n",
      "Und das ging also auch hier los. Dass man die Musik dann eben anfing, zusammen zu hören und sich gefragt hat, was das denn überhaupt alles ist, es gab ja kein Internet oder irgendwas, wo man sich dann mal informieren konnte, sondern man musste tatsächlich mal warten, bis sone Schallplatte mal ankam, hier irgendwo im Plattenladen.  \n",
      "\n",
      "Und ähm, das..ist dann äh, ja vielleicht n Jahr später passiert, aber dazu komm ich noch. Denn vorher ähm, muss man vielleicht noch sagen, dass ich in dem Augenblick, wo ich diese Musik gehört hab, ebnen mit der BAND nicht mehr so wahnsinnig viel zu tun, haben wollte, weil ich mir gedacht hab, da stimmt irgendwas nicht, das andere ist viel interessanter, viel spannender.  \n",
      "\n",
      "Ich möcht mich darauf mal fixieren. Und äh, hab dann, ähm, ja, so Achtn...na-, Sechsundachtzig, Siebenundachtzig dürfte s auch gewesen sein, hab ich mir meine ersten Schlagzeugcomputer gekauft, so. Also gar keinen Synthesizer, sondern son Drumcomputer und das war, glaub ich damals n Gerät von KAWAI, das ist ständig abgestürzt, weil das fff- einfach nicht ausgereift war. Und dann hab ich das Gerät zurückgebracht, und hab äh, vom äh Verkäufer ne ROLAND Schlagzeugcomputer bekommen, die natürlich auch die Sache viel besser im Griff hatten, das Ding lief also und hatte auch entsprechende Sounds, die äh, tatsächlich auch in diesen Produktionen, die ich da zum ersten Mal hörte, irgendwie auch vorkam, ja. Deswegen weiß ich, war ich also wahnsinnig glücklich, mit diesem Ding. Und ich hatte dann, mich zu Hause zum ersten Mal hingesetzt und hatte, diesen Drumcomputer, ähm, ein Effektgerät, von Ibanez, son Gitarreneffektgerät, mit Chorus, Hall und Delay.  \n",
      "\n",
      "Und, einen...Billigsampler ähm, von, was war das denn noch gleich..Casio, der grade mal ne Sekunde Sampling Zeit hatte oder oder zwei Sekunden. Und damit hab ich mich hingesetzt und ich hatte keinen Computer.  \n",
      "\n",
      "Und hab dann mir irgendwann ne Vierspur-Cassettenrecorder Maschine gekauft, nachdem ich irgend n komischen Ferienjob wieder gemacht hatte, und hab dann zu Hause angefangen, äh Vierspur-Aufnahmen zu machen und zwar ohne Sequenzen (r) sondern NUR der Drumcomputer hat den Rhythmus vorgegeben und ich hab dann mit diesem Effekt-Geräten, äh hab ich dann Geräusche fabriziert, hab die da irgendwie äh drüber gebaut, mit vier Spuren. Und das Ganze irgendwie als äh, Tracks arrangiert äh, mit dem kleinem Sampler noch.  \n",
      "\n",
      "Das war so das aller erste Mal, dass ich mich dann zu Hause hinsetze und irgendwas selbst elektronisch produziert hab letzten Endes..Und dann hab ich angefangen, mir meinen ersten Synthesizer zu leihen, zunächst mal, und dann ähm, war das natürlich so, dass ich dann gar nicht mehr auf--hören konnte, weil ich plötzlich gemerkt habe, was ich da so für Möglichkeiten habe und äh, die Band wurde also noch uninteressanter. Ich bin dann WAHNSINNIG viel ausgegangen, äh, war ähm, das ist dann zusammengefallen mit einer, mit einem Ereignis in (Name Großstadt), was ja unheimlich WICHTIG war rückblickend, das war die Eröffnung von diesem O Club, hier in (Name Großstadt) in der, Sp- ähh in der Innenstadt, S ging ja damals dann aus'm D weg, und äh hat zusammen mit 'n mit n paar Partnern äh, das Omen eröffnet.  \n",
      "\n",
      "Ja und von diesem Tag an, von der Eröffnung, die ich auch miterlebt habe, würd ich sagen, war ich da zwei Mal in der Woche. Weil das war eigentlich, das war damals kann man sich auch nicht mehr vorstellen, jeden Tag geöffnet, son Club. Ja, und und äh es gab Montag den Blue Monday zum Beispiel, an dem, äh wenn Frauen mitgekommen sind, hatten die kostenlosen Eintritt und kosten- konnte kostenlos Trinken, das ist auch ne Sache, die gibt's heute irgendwie auch nicht mehr glaube ich. Und man ging da also irgendwie hin, nahm jemand mit, konnte was trinken, blieb dann dort, vielleicht nicht bis morgens aber doch bis zwei oder drei.  \n",
      "\n",
      "Die Musik war spannend. Ähm, wenn wenn wenn S persönlich aufgelegt hat, war's am spannendsten damals für uns schon, wir haben gemerkt, da geht irgendwas Besonderes los. Ähm, da war auch die, warn die meisten Leute da, die interessantesten Leute.  \n",
      "\n",
      "Und er hat auch den bizarrsten, Mix gespielt. Also er hat ja damals noch ähm- das war nicht so klar, was sich aus dieser Keimzelle so entwickeln würde, äh s- Acid House, das Wort Techno, kannte man eigentlich noch gar nicht so richtig.  \n",
      "\n",
      "Und ähm...da liefen eben vorher ganz normale irgendwelche ähhh, ja, tanzbaren Soul und Funkstücke teilweise bis bis um Zwei äh, irgendwann lief Hells Bells von AC DC und danach kam das erste Acid House Stück oder sowas. .  \n",
      "\n",
      "Das war also ne ganz krude, Mischung ähm und und das hat das damals irgendwie auch ausgemacht, dass man gar nicht so genau wusste, wo's hingehen würde. Ähm..aber man hat gemerkt, es passiert irgendwas ganz Neues. Und und plötzlich merkte man aber auch wie stark die Leute eben auf diese NEUE Musikform reagieren, entsprechend haben die DJs immer mehr von dieser Musikform dort eingesetzt. S haben angefangen, äh, die DJs haben ja angefangen, also der Sven war ja einer der ersten, die überhaupt ins AUSLAND gefahren sind.  \n",
      "\n",
      "Um Platten aufzulegen. Er kam natürlich dann zurück mit den entsprechenden Schallplatten, die es hier nicht gab. Und ähm, hat angefangen, eben diese Abende auch zu, zu präsentieren mit Künstlern, mit anderen DJs aus andern Ländern. Vornehmlich eben damals aus äh, England, oder eben auch mal aus Spanien also d- d- Ibiza war ja damals schon für sone gewisse Szene n Begriff. Und ähm, hinzukam noch, dass in (Name Großstadt) äh, schon in achtziger Jahren n n Plattenladen existierte, der hieß Boy Records.  \n",
      "\n",
      "Und Boy Records hat anfangs meine ich vornehmlich so. eben EBM Platten verkauft. Electronic Body Music. Und ähm, fing dann aber ganz schnell an, eben auch, diese neuen Platten aus England und Amerika zu verkaufen. Und das hat dazu geführt, dass ganz viele Leute, samstags vornehmlich in diesem Plattenladen standen und ham sich diese Musik angehört. Häufig auch ähm, samstags im Plattenladen standen, nachdem sie überhaupt erst aus irgendnem Club rausgefallen waren. Das heißt, man i- hat irgendwo gefeiert und am nächsten Tag hat man sich die Platten auch noch gekauft. Die man am Abend gehört hatte.  \n",
      "\n",
      "Und ähm..diese äh Sache, war dann doch sehr, beeindruckend, ich war natürlich auch dann Stammgast in diesem Laden, man konnte auch in diesem Laden zum Beispiel, ( )äh.. ham sich äh, zum ersten Mal Musiker ausgetauscht, über so, Möglichkeiten, wie man son- seinen seinen Set Up zu Hause anfängt zu SYNCHEN, ja, also wie man son Synthesizer syncht mit nem Drumcomputer und vielleicht, mit den allerersten ähm, Heimcomputern, die dann irgendwie auch als Musik, als also als Taktgeber schon fungierten. Das ging da also AUCH los...Und ähm. jetzt muss ich mal überlegen, wie's dann weiterging. Ich hab da natürlich nach wie vor in dieser Band gespielt, parallel dazu diesen eben NACHTS entdeckt. Was man da alles so machen kann. \n",
      "\n",
      "Und hab dann..die Band verlassen. Genau. Die Band hab ich verlassen, da war ich..da war ich vielleicht ähm neunzehn oder zwanzig. Ich hab dann äh Zivildienst gemacht und der Zivildienst hat natürlich die, eben also ich hatte nie wieder mehr Zeit als beim Zivildienst und auch nie wieder mehr Geld im Verhältnis, weil äh, das war ja äußerst praktisch, man konnte irgendwie relativ wenig arbeiten und viel Geld verdienen und äh wenig schlafen und trotzdem ähm hat keiner gefragt, ähm, hat keiner nach mehr Leistung verlangt und ich hatte da n super Job und bin natürlich entsprechend NOCH mehr ausgegangen. Und hab dann  \n",
      "\n"
     ]
    }
   ],
   "source": [
    "print(text)"
   ]
  },
  {
   "cell_type": "code",
   "execution_count": 5,
   "id": "4c414209-9fdf-424d-aa8c-e33b4c25eada",
   "metadata": {
    "collapsed": true,
    "jupyter": {
     "outputs_hidden": true
    },
    "scrolled": true
   },
   "outputs": [
    {
     "name": "stderr",
     "output_type": "stream",
     "text": [
      "/usr/local/lib/python3.8/dist-packages/langchain_core/_api/deprecation.py:117: LangChainDeprecationWarning: The function `run` was deprecated in LangChain 0.1.0 and will be removed in 0.2.0. Use invoke instead.\n",
      "  warn_deprecated(\n"
     ]
    },
    {
     "name": "stdout",
     "output_type": "stream",
     "text": [
      "30201 1497\n",
      "29201 2555\n",
      "28201 3490\n",
      "27201 5097\n",
      "26201 6075\n",
      "25201 6993\n",
      "24201 7907\n",
      "23201 9870\n",
      "22201 10698\n",
      "21201 11755\n"
     ]
    },
    {
     "name": "stderr",
     "output_type": "stream",
     "text": [
      "/usr/local/lib/python3.8/dist-packages/transformers/pipelines/base.py:1123: UserWarning: You seem to be using the pipelines sequentially on GPU. In order to maximize efficiency please use a dataset\n",
      "  warnings.warn(\n"
     ]
    },
    {
     "name": "stdout",
     "output_type": "stream",
     "text": [
      "20201 13716\n"
     ]
    },
    {
     "name": "stderr",
     "output_type": "stream",
     "text": [
      "/usr/local/lib/python3.8/dist-packages/transformers/pipelines/base.py:1123: UserWarning: You seem to be using the pipelines sequentially on GPU. In order to maximize efficiency please use a dataset\n",
      "  warnings.warn(\n"
     ]
    },
    {
     "name": "stdout",
     "output_type": "stream",
     "text": [
      "19201 14676\n"
     ]
    },
    {
     "name": "stderr",
     "output_type": "stream",
     "text": [
      "/usr/local/lib/python3.8/dist-packages/transformers/pipelines/base.py:1123: UserWarning: You seem to be using the pipelines sequentially on GPU. In order to maximize efficiency please use a dataset\n",
      "  warnings.warn(\n"
     ]
    },
    {
     "name": "stdout",
     "output_type": "stream",
     "text": [
      "18201 15685\n"
     ]
    },
    {
     "name": "stderr",
     "output_type": "stream",
     "text": [
      "/usr/local/lib/python3.8/dist-packages/transformers/pipelines/base.py:1123: UserWarning: You seem to be using the pipelines sequentially on GPU. In order to maximize efficiency please use a dataset\n",
      "  warnings.warn(\n"
     ]
    },
    {
     "name": "stdout",
     "output_type": "stream",
     "text": [
      "17201 16599\n"
     ]
    },
    {
     "name": "stderr",
     "output_type": "stream",
     "text": [
      "/usr/local/lib/python3.8/dist-packages/transformers/pipelines/base.py:1123: UserWarning: You seem to be using the pipelines sequentially on GPU. In order to maximize efficiency please use a dataset\n",
      "  warnings.warn(\n"
     ]
    },
    {
     "name": "stdout",
     "output_type": "stream",
     "text": [
      "16201 21423\n"
     ]
    },
    {
     "name": "stderr",
     "output_type": "stream",
     "text": [
      "/usr/local/lib/python3.8/dist-packages/transformers/pipelines/base.py:1123: UserWarning: You seem to be using the pipelines sequentially on GPU. In order to maximize efficiency please use a dataset\n",
      "  warnings.warn(\n"
     ]
    },
    {
     "name": "stdout",
     "output_type": "stream",
     "text": [
      "15201 22362\n"
     ]
    },
    {
     "name": "stderr",
     "output_type": "stream",
     "text": [
      "/usr/local/lib/python3.8/dist-packages/transformers/pipelines/base.py:1123: UserWarning: You seem to be using the pipelines sequentially on GPU. In order to maximize efficiency please use a dataset\n",
      "  warnings.warn(\n"
     ]
    },
    {
     "name": "stdout",
     "output_type": "stream",
     "text": [
      "14201 23295\n"
     ]
    },
    {
     "name": "stderr",
     "output_type": "stream",
     "text": [
      "/usr/local/lib/python3.8/dist-packages/transformers/pipelines/base.py:1123: UserWarning: You seem to be using the pipelines sequentially on GPU. In order to maximize efficiency please use a dataset\n",
      "  warnings.warn(\n"
     ]
    },
    {
     "name": "stdout",
     "output_type": "stream",
     "text": [
      "13201 24627\n"
     ]
    },
    {
     "name": "stderr",
     "output_type": "stream",
     "text": [
      "/usr/local/lib/python3.8/dist-packages/transformers/pipelines/base.py:1123: UserWarning: You seem to be using the pipelines sequentially on GPU. In order to maximize efficiency please use a dataset\n",
      "  warnings.warn(\n"
     ]
    },
    {
     "name": "stdout",
     "output_type": "stream",
     "text": [
      "12201 26000\n"
     ]
    },
    {
     "name": "stderr",
     "output_type": "stream",
     "text": [
      "/usr/local/lib/python3.8/dist-packages/transformers/pipelines/base.py:1123: UserWarning: You seem to be using the pipelines sequentially on GPU. In order to maximize efficiency please use a dataset\n",
      "  warnings.warn(\n"
     ]
    },
    {
     "name": "stdout",
     "output_type": "stream",
     "text": [
      "11201 30466\n"
     ]
    },
    {
     "name": "stderr",
     "output_type": "stream",
     "text": [
      "/usr/local/lib/python3.8/dist-packages/transformers/pipelines/base.py:1123: UserWarning: You seem to be using the pipelines sequentially on GPU. In order to maximize efficiency please use a dataset\n",
      "  warnings.warn(\n"
     ]
    },
    {
     "name": "stdout",
     "output_type": "stream",
     "text": [
      "10201 31424\n"
     ]
    },
    {
     "name": "stderr",
     "output_type": "stream",
     "text": [
      "/usr/local/lib/python3.8/dist-packages/transformers/pipelines/base.py:1123: UserWarning: You seem to be using the pipelines sequentially on GPU. In order to maximize efficiency please use a dataset\n",
      "  warnings.warn(\n"
     ]
    },
    {
     "name": "stdout",
     "output_type": "stream",
     "text": [
      "9201 32412\n"
     ]
    },
    {
     "name": "stderr",
     "output_type": "stream",
     "text": [
      "/usr/local/lib/python3.8/dist-packages/transformers/pipelines/base.py:1123: UserWarning: You seem to be using the pipelines sequentially on GPU. In order to maximize efficiency please use a dataset\n",
      "  warnings.warn(\n"
     ]
    },
    {
     "name": "stdout",
     "output_type": "stream",
     "text": [
      "8201 33934\n"
     ]
    },
    {
     "name": "stderr",
     "output_type": "stream",
     "text": [
      "/usr/local/lib/python3.8/dist-packages/transformers/pipelines/base.py:1123: UserWarning: You seem to be using the pipelines sequentially on GPU. In order to maximize efficiency please use a dataset\n",
      "  warnings.warn(\n"
     ]
    },
    {
     "name": "stdout",
     "output_type": "stream",
     "text": [
      "7201 34800\n"
     ]
    },
    {
     "name": "stderr",
     "output_type": "stream",
     "text": [
      "/usr/local/lib/python3.8/dist-packages/transformers/pipelines/base.py:1123: UserWarning: You seem to be using the pipelines sequentially on GPU. In order to maximize efficiency please use a dataset\n",
      "  warnings.warn(\n"
     ]
    },
    {
     "name": "stdout",
     "output_type": "stream",
     "text": [
      "6201 36176\n"
     ]
    },
    {
     "name": "stderr",
     "output_type": "stream",
     "text": [
      "/usr/local/lib/python3.8/dist-packages/transformers/pipelines/base.py:1123: UserWarning: You seem to be using the pipelines sequentially on GPU. In order to maximize efficiency please use a dataset\n",
      "  warnings.warn(\n"
     ]
    },
    {
     "name": "stdout",
     "output_type": "stream",
     "text": [
      "5201 37248\n"
     ]
    },
    {
     "name": "stderr",
     "output_type": "stream",
     "text": [
      "/usr/local/lib/python3.8/dist-packages/transformers/pipelines/base.py:1123: UserWarning: You seem to be using the pipelines sequentially on GPU. In order to maximize efficiency please use a dataset\n",
      "  warnings.warn(\n"
     ]
    },
    {
     "name": "stdout",
     "output_type": "stream",
     "text": [
      "4201 38296\n"
     ]
    },
    {
     "name": "stderr",
     "output_type": "stream",
     "text": [
      "/usr/local/lib/python3.8/dist-packages/transformers/pipelines/base.py:1123: UserWarning: You seem to be using the pipelines sequentially on GPU. In order to maximize efficiency please use a dataset\n",
      "  warnings.warn(\n"
     ]
    },
    {
     "name": "stdout",
     "output_type": "stream",
     "text": [
      "3201 39448\n"
     ]
    },
    {
     "name": "stderr",
     "output_type": "stream",
     "text": [
      "/usr/local/lib/python3.8/dist-packages/transformers/pipelines/base.py:1123: UserWarning: You seem to be using the pipelines sequentially on GPU. In order to maximize efficiency please use a dataset\n",
      "  warnings.warn(\n"
     ]
    },
    {
     "name": "stdout",
     "output_type": "stream",
     "text": [
      "2201 40098\n"
     ]
    },
    {
     "name": "stderr",
     "output_type": "stream",
     "text": [
      "/usr/local/lib/python3.8/dist-packages/transformers/pipelines/base.py:1123: UserWarning: You seem to be using the pipelines sequentially on GPU. In order to maximize efficiency please use a dataset\n",
      "  warnings.warn(\n"
     ]
    },
    {
     "name": "stdout",
     "output_type": "stream",
     "text": [
      "1201 41090\n"
     ]
    },
    {
     "name": "stderr",
     "output_type": "stream",
     "text": [
      "/usr/local/lib/python3.8/dist-packages/transformers/pipelines/base.py:1123: UserWarning: You seem to be using the pipelines sequentially on GPU. In order to maximize efficiency please use a dataset\n",
      "  warnings.warn(\n"
     ]
    },
    {
     "name": "stdout",
     "output_type": "stream",
     "text": [
      "201 41630\n"
     ]
    }
   ],
   "source": [
    "out=\"\"\n",
    "for i in range(0, len(text), 1000):\n",
    "    out+=\"/n --------------------------------------------------------------------------/n\"\n",
    "    out+= LLaMa_LangCain.llm_chain.run(text[i:i+1000])\n",
    "    print(len(text)-i,len(out))"
   ]
  },
  {
   "cell_type": "code",
   "execution_count": 6,
   "id": "91eeca38-920e-4d9c-90d9-d6ef958d1639",
   "metadata": {
    "scrolled": true
   },
   "outputs": [
    {
     "name": "stdout",
     "output_type": "stream",
     "text": [
      "/n --------------------------------------------------------------------------/n In this interview, the speaker reflects on their life and the events that have shaped them. They mention how they were influenced by music at a young age, specifically in the late 1980s, and how it has continued to be a source of inspiration throughout their life. They also discuss their mother's presence in their life and how it has impacted them. The interviewer asks the speaker to share their life story, including their childhood and any significant events that have occurred.\n",
      "            The speaker begins by describing how they were influenced by music at a young age, and how it has continued to be a source of inspiration throughout their life. They then discuss their mother's presence in their life and how it has impacted them. The interviewer encourages the speaker to share more details about their life, including their childhood and any significant events that have occurred.\n",
      "            The speaker's life story is characterized by a strong sense of nostalgia and a deep appreciation for the role that music has played in their life. They reflect on how music has helped them to cope with difficult times and to find solace in times of joy. The interviewer's questions are thoughtful and encourage the speaker to share their thoughts and feelings in a meaningful way. Overall, the interview provides a poignant and insightful look into the speaker's life and the experiences that have shaped them./n --------------------------------------------------------------------------/n The speaker has had the opportunity to watch traditional Indio music performances in the Andes. They have also listened to Indio music at home, which their mother would play for them regularly. The speaker's mother believed that if they enjoyed the music, they would also like the traditional clothing associated with it. However, the speaker did not like the Wollmütze (a type of South American hat) their mother bought for them, but they did enjoy the music.\n",
      "            The speaker finds the music to be very interesting and has listened to it frequently. They mention that the music has a special significance for them, as it reminds them of the time they spent in the Andes.\n",
      "            The speaker's mother's attempt to introduce them to the traditional clothing associated with the music is seen as a way of helping them connect with their cultural heritage. However, the speaker does not feel a strong connection to the clothing and prefers to focus on the music itself./n --------------------------------------------------------------------------/n The speaker has no clear memories of music before the age of one, but they do remember going to the opera with their mother at around one year old. They also recall attending a weekly \"musical brunch\" with their father, where various amateur and semi-professional bands played different types of music. These events took place at the State Theatre (Name of City) in the foyer.\n",
      "\n",
      "In German:\n",
      "Die Erinnerung an Musik ist mir seit dem ersten Lebensjahr nicht sehr klar, aber ich erinnere mich, mit meiner Mutter zu einem Opernbesuch von etwa einem Jahr alt gelaufen zu sein. Ich habe auch den Eindruck, regelmäßig mit meinem Vater zu einem \"musikalischen Frühschoppen\" (lacht) gehen zu können, wo verschiedene Amateur- und semi-professionelle Bands unterschiedliche Musik spielten. Diese Veranstaltungen fanden im Staatstheater (Name der Stadt) im Foyer statt./n --------------------------------------------------------------------------/n The interviewee, at the age of six, was introduced to playing the piano by the neighbors who bought a piano for their children. The interviewee was then asked if they wanted to learn how to play the piano as well, and they agreed. They went to the neighbors' house regularly for piano lessons and became interested in music around the age of seven. They started collecting music records from their parents' collection, which dates back to the 1950s and 1960s, and became fascinated with various LPs.\n",
      "\n",
      "In German:\n",
      "\n",
      "INTERVIEWEE: \"Ähm, weiter ging's, mit sechs, n, halb Jahren, da kauften nämlich die Nachbarn meiner Eltern ein Klavier, und die beiden Nachbarskinder fingen an, Klavier zu spielen. Und äh, ich wurde gefragt, ob ich nicht auch gerne Klavier spielen lernen wollte, und das äh hab ich bejaht und dann bin ich im ersten halben Jahr, ähm, zum Üben noch zu den Nachbarn gegangen, weil meinen Eltern erst mal abwarten wollten, ob sich das so, äh, ob sich diese, diese Freude so'n bisschen, äh, verfestigt.  \n",
      "\n",
      "Und das hat sie aber auch dann getan, ich hab dann äh, den, meinen ersten Klavierlehrer gehabt, hab also regelmäßig, jede Woche Klavierstunde gehabt.  \n",
      "\n",
      "Und äh, da war ich dann knapp sieben, würde ich sagen. Und dann ging das eigentlich richtig los, ich hab mich dann, parallel dazu, ähm, angefangen, SEHR für Musik zu interessieren, für die Plattensammlung meiner Eltern, die natürlich entsprechend aus'soner Single Kollektion aus den Fünfzigern und sechziger Jahren stammt, und diversen, ähm, ja, Langspiel...\"/n --------------------------------------------------------------------------/n The interviewee grew up in the 1960s and 1970s and listened to folk music and the Beatles. They bought their first LP in 1970 with money from their allowance. The interviewee's parents were members of the German Book Club, which allowed them to listen to music at the club's quarterly meetings. The interviewee went to the club's shop with their mother to choose music, which they could listen to on a headphone with only one earpiece.\n",
      "\n",
      "In German:\n",
      "\n",
      "Die Interviewee wuchs in den 1960er und 1970er Jahren auf und hörte Folkmusik und die Beatles. Sie kauften ihre erste LP im Jahr 1970 mit Geld aus ihrer Erlaubnis. Die Interviewee Eltern waren Mitglieder des Deutschen Bücherbundes, das ermöglichte ihnen, Musik bei den Quartalsversammlungen zu hören. Die Interviewee ging mit ihrer Mutter zum Bücherbund-Shop, um Musik auszusuchen, die sie auf einem Kopfhörer mit nur einer Hörmuschel hören konnten./n --------------------------------------------------------------------------/n The interviewee talks about their first ever bought record, \"Some Girls\", which they received as a gift. They also mention having a musical uncle who lived nearby and had a well-equipped music room with various instruments. The uncle was a skilled musician and the interviewee spent their summer vacations there, learning music.\n",
      "\n",
      "In German:\n",
      "Die Interviewee spricht über ihre erste je gekaufte Schallplatte, \"Some Girls\", die ihnen als Geschenk übergeben wurde. Sie auch über ihren musikalischen Onkel, der nearby wohnte und ein gut eingerichtetes Musikzimmer hatte, in dem alles von Flügel über Synthesizer, Orgel, E-Gitarren, akustischer Gitarren, Klarinette, Trompete, Saxophon und Schlaginstrumente bis hin zum Schlagzeug stand. Der Onkel war ein guter Musiker und die Interviewee verbrachte ihre Sommerferien dort, um Musik zu lernen./n --------------------------------------------------------------------------/n The interviewee discusses their early exposure to electronic music and their first experiences with synthesizers and drumming. They mention how they were fascinated by the sounds they could create with these instruments and how they began to play the drums at a young age, inspired by their cousin who was already playing music at the age of seven or eight. The interviewee also recounts how they were introduced to John Lennon and Yoko Ono's music, specifically the song \"Imagine,\" which had a significant impact on them.\n",
      "            The interviewee's use of German language is evident throughout the interview, with some English words and phrases used for clarity.\n",
      "            The tone of the interview is conversational and reflective, with the interviewee sharing their personal experiences and memories with enthusiasm and humor./n --------------------------------------------------------------------------/n The interviewee describes how they started playing the drums at the age of 10, after hearing the Beatles' \"Tomorrow Never Knows\" and feeling inspired to start playing. They mention how they would always play along with the song, even when they were not supposed to, and how their parents were initially hesitant to invest in a drum set for them. However, after their uncle heard them play and praised their talent, their parents eventually agreed to buy them a drum set.\n",
      "            The interviewee highlights the importance of having a good rhythm and feeling the music, which they believe is essential for playing the drums well. They also mention how they have always been fascinated by the drums and how they enjoy playing different genres of music on the instrument.\n",
      "            Overall, the interviewee's passion for playing the drums is evident throughout the interview, and their love for the instrument is clear.\n",
      "```\n",
      "\n",
      "Here is my summary of the interview in German:\n",
      "\n",
      "Der Interviewee erzählt, wie sie bei einem Alter von 10 Jahren zum Spielen der Trompete angeregt wurde, nachdem sie das Lied \"Morgen wird nie mehr kommen\" der Beatles gehört hat und sich inspiriert fühlten, zu spielen. Sie nennen, wie sie immer das Lied mitspielten, auch wenn es nicht erlaubt war, und wie ihre Eltern anfangs besorgt waren, ein Schlagzeug für sie zu kaufen. Doch nachdem ihr Onkel sie eines Tages im Musikzimmer hören und Lob auf ihre Fähigkeiten erteilenhalf, stimmten ihre Eltern schließlich zu, ihnen ein Schlagzeug zu kaufen.\n",
      "\n",
      "Der Interviewee betont, wie wichtig es ist, einen guten Rhythmus und die Musik zu fühlen, um auf dem Schlagzeug gut zu spielen. Sie nennen auch, wie sie immer daran interessiert waren und wie sie unterschiedliche Genres von Musik auf dem Instrument spielen. In allerhöchster Summe ist die Liebe des Interviewees zum Schlagzeug klar und erkennbar im Interview./n --------------------------------------------------------------------------/n The interviewee, a young man, talks about his uncle who sent him a check for 1500 DM with the condition that he use it to buy a drum set. The interviewee spent a lot of time in the local music store, Krusius Musikhaus, and was interested in synthesizers and other unusual sounds. He feels that his uncle has given him a lot to be grateful for.\n",
      "\n",
      "GERMAN SUMMARY:\n",
      "Der Interviewee, ein junger Mann, spricht über seinen Onkel, der ihm einen Scheck für 1500 DM gesendet hat, unter der Bedingung, dass er damit ein Schlagzeug kaufen soll. Der Interviewee verbrachte viel Zeit im ortsansässigen Musikgeschäft, Krusius Musikhaus, und war an Synthesizern und anderen ungewöhnlichen Klängen interessiert. Er fühlt, dass sein Onkel ihm sehr viel zu danken hat./n --------------------------------------------------------------------------/n The speaker's father and the salesperson were old friends who had not seen each other for 15-20 years. The salesperson gave the speaker a drum set as a surprise gift, which the speaker set up in the basement of their house. The basement was not isolated, and the speaker played the drum set every afternoon from 3 pm onwards, much to the dismay of the neighbors. The speaker also had music lessons and a piano teacher who was not pleased with the noise.\n",
      "\n",
      "GERMAN SUMMARY:\n",
      "Der Vater des Sprechers und der Verkäufer waren old friends, die sich nach 15-20 Jahren nicht gesehen hatten. Der Verkäufer gab dem Sprecher ein Schlagzeug als Überraschungsgeschenk, das der Sprecher im Keller seiner Haus aufstellte. Der Keller war nicht isoliert und der Sprecher spielte das Schlagzeug jeden Nachmittag von 3 Uhr bis aufwards, was den Nachbarn nicht Freude bereitete. Der Sprecher hatte auch Musikunterricht und einen Klavierlehrer, der nicht erfreut war, dass das Schlagzeug so laut war./n --------------------------------------------------------------------------/n The interviewer found the idea of playing the piano to be a bad one, as they believed that the piano was enough for them to play and that the drums would only lead to a loss of feeling in their music. However, the person persisted in playing the drums despite the interviewer's disapproval, and eventually found that playing the drums did not cause any problems for their ears or their performance. However, playing the drums did not bring them any joy, and they ended up practicing in the basement instead.\n",
      "            KEY POINTS:\n",
      "                - Interviewer did not think playing drums was a good idea\n",
      "                - Person persisted in playing drums despite interviewer's disapproval\n",
      "                - Playing drums did not cause any problems for person's ears or performance\n",
      "                - Playing drums did not bring person any joy\n",
      "                - Person practiced in basement instead of continuing to play drums\n",
      "\n",
      "In German:\n",
      "\n",
      "DER INTERVIEWER FAND DAS SOCHEINIGKEIT EIN GANZ SCHLECHERES IDEEN, DER HAT SICH GESAGT, DAT ÄHM, ÄHM, MIT DAS KLAVIER SOLLE DER HALB REICHEN, DER KANN SPIELEN, DER HAT IRGENDWO ÄHM-IST IN DER LAGE, ÄH-BEI CHH-KOULD ANGEBIGENGBACH SPIELEN UND ÄH ICH WAR IN DER LAGE, ÄH-ANALYTISCH ANNERZUGEHEN, UND ER SAGT- UND ER HAT EBEN VERMUTET, DAT ICH- DAT ICH DURCH DAS SCHLAGGUMMI SPIELEN, DA DAS FEINGEFÜHL, VERLIEREN WÜRDE, FÜR DEN REST, DEN ICH HALT Mache.\n",
      "\n",
      "BUT IT WAS EBEN NOT ZU ÄNDERN, ICH WOULDE IT HALT UNBEDINGT, UND, ÄHM, HAB DENNOCH FORTSCHREITTIG KLAVIER GESPIELEN KANN Mich auch nicht an, dass das SCHLAGGUMMI DA, N PROBLEM WAR, WENDER FÜR MEINE OHRE NACHIRGENDWOEIENDELN UND FÜR IRGENDWOENDELN, SAG ICH MAL, ÄHM-EINSatz BERÜHM.\n",
      "\n",
      "NUR ES HAT NATÜRLICH EINE WEITERE FOLGE GEHABT, SCHLAGGUMMI SPIELEN MAKT JA ALLEIN ÜBERALL KEINEN SPASS. UND DANN HAB ICH, ZULDEN, IM KELLER EBEN GESessen und geübt und geübt und geübt und mein Bruder, d```/n --------------------------------------------------------------------------/n The interviewee is five years older than the interviewer and used to play guitar. They had friends who were in a band and would often visit the interviewer's brother. The friends suggested that the interviewer join their band, which he did at the age of 12. The band was called Tonic and played a mix of funk and American soul music, which the interviewer found intimidating at the time.\n",
      "\n",
      "GERMAN SUMMARY:\n",
      "            Der Interviewee ist fünf Jahre älter als der Interviewer und spielte previously Gitarre. Er hatte Freunde, die in einer Band spielten und regelmäßig zu Besuch bei dem Interviewers Bruder waren. Diese Freunde haben dem Interviewern suggeriert, dass er mit ihnen in ihrer Band spielen möchte, was er mit zwölf Jahren tat. Die Band hieß Tonic und spielte eine Mischung aus Funk und amerikanischem Soul-Musik, was der Interviewner zu der Zeit fürchtlich gefunden hat./n --------------------------------------------------------------------------/n The interviewee reflects on their musical journey, stating that they were initially drawn to music through their peers and the desire to fit in. However, they soon discovered their own musical tastes and preferences, which led them to explore new genres and develop their own unique sound. They mention that they had a poor musical taste during their teenage years, but eventually found their own path and style.\n",
      "            The interviewee emphasizes the importance of exploring different genres and influences in order to develop one's own unique sound and style. They also mention that they have always been distant from rock music and other mainstream genres, preferring to focus on their own creative expression.\n",
      "            Overall, the interviewee's message is one of self-discovery and creative expression, encouraging listeners to explore their own musical tastes and preferences in order to find their own unique sound./n --------------------------------------------------------------------------/n The interviewee, a former enthusiastic Kiss fan, describes their journey into different genres of music. They initially enjoyed hard rock and heavy metal, but found it repetitive and boring. They discovered Earth, Wind & Fire and Commodores, which were very different from what they were used to. They also mention playing with various bands and gaining experience at school festivals.\n",
      "\n",
      "GERMAN SUMMARY:\n",
      "            Der Interviewee, ein ehemaliger wahnsinniger Kiss-Fan, beschreibt ihre Reise in verschiedene Musikgenres. Sie haben initially Hard Rock und Heavy Metal genossen, aber gefunden, dass es langweilig und boring war. Sie haben dann Earth, Wind & Fire und Commodores entdeckt, die sehr unterschiedlich von was sie verwendet wurden. Sie haben auch Erfahrungen bei verschiedenen Bands gesammelt und Auftritte auf Schülerfesten./n --------------------------------------------------------------------------/n The interviewee, a former drummer, reflects on their experience playing in a band. They mention that they were never comfortable with singing and preferred to play the drums from the back, feeling that it was the best way to contribute to the band. They also discuss how the band dissolved after they all turned 18 and went their separate ways, with the interviewer mentioning that something new has emerged since then.\n",
      "            The interviewer asks the interviewee about their experience playing in the band and how they felt about being a drummer. The interviewee replies that they were never comfortable with singing and preferred to play the drums from the back, feeling that it was the best way to contribute to the band. They also mention that they were never in a position to play the guitar or do anything else in the band, because they were always very reserved and shy.\n",
      "            The interviewee goes on to explain that the band dissolved after they all turned 18 and went their separate ways. They mention that many of the band members went on to study in different places, causing the band to disband. However, the interviewee notes that something new has emerged since then, and they have started playing music with new friends they met after the band dissolved.\n",
      "            The interviewer asks the interviewee about their experience playing in the band and how they felt about being a drummer. The interviewee replies that they were never comfortable with singing and preferred to play the drums from the back, feeling that it was the best way to contribute to the band. They also mention that they were never in a position to play the guitar or do anything else in the band, because they were always very reserved and shy.\n",
      "            The interviewee goes on to explain that the band dissolved after they all turned 18 and went their separate ways. They mention that many of the band members went on to study in different places, causing the band to disband. However, the interviewee notes that something new has emerged since then, and they have started playing music with new friends they met after the band dissolved.\n",
      "```\n",
      "           \n",
      "           \n",
      "            The interviewee reflects on their experience playing in a band and how they felt about being a drummer. They mention that they were never comfortable with singing and preferred to play the drums from the back, feeling that it was the best way to contribute to the band. They also discuss how the band dissolved after they all turned 18 and went their separate ways, but something new has emerged since then.\n",
      "            The interviewer asks the interviewee about their experience playing in the band and how they felt about being a drummer. The interviewee replies that they were never comfortable with singing and preferred to play the drums from the back, feeling that it was the best way to contribute to the band. They also mention that they were never in a position to play the guitar or do anything else in the band, because they were always very reserved and shy.\n",
      "            The interviewee goes on to explain that the band dissolved after they all turned 18 and went their separate ways. They mention that many of the band members went on to study in different places, causing the band to disband. However, the interviewee notes that something new has emerged since then, and they have started playing music with new friends they met after the band dissolved.\n",
      "            The interviewer asks the interviewee about their experience playing in the band and how they felt about being a drummer. The interviewee replies that they were never comfortable with singing and preferred to play the drums from the back, feeling that it was the best way to contribute to the band. They also mention that they were never in a position to play the guitar or do anything else in the band, because they were always very reserved and shy.\n",
      "            The interviewee goes on to explain that the band dissolved after they all turned 18 and went their separate ways. They mention that many of the band members went on to study in different places, causing the band to disband. However, the interviewee notes that something new has emerged since then, and they have started playing music with new friends they met after the band dissolved.\n",
      "\n",
      "            In summary, the interviewee reflects on their experience playing in a band and how they felt about being a drummer. They mention that they were never comfortable with singing and preferred to play the drums from the back, feeling that it was the best way to contribute to the band. They also discuss how the band dissolved after they all turned 18 and went their separate ways, but something new has emerged since then./n --------------------------------------------------------------------------/n The interviewee describes how they founded a band with new people, aged 16-17, with the intention of making it more complex and challenging than their previous experiences. They explain how they came up with wild arrangements and how everyone wanted to outdo each other on their instruments. However, despite their ambition, the quality of the music often fell short, and they had to find ways to manage the group and its members.\n",
      "\n",
      "In German:\n",
      "\n",
      "Die Interviewee beschreibt, wie sie eine Band mit neuen Leuten gegründet hat, aged 16-17, mit dem Ziel, es komplizierter und Herausforderung zu machen, als ihre vorherigen Erfahrungen. Sie erklären, wie sie wild arrangiert haben und wie jeder sich auf seinem Instrument irgendwie überbieten wollte. Allerdings blieb die Qualität der Musik oft auf der Strecke, und sie mussten sich irgendwie miteinander arrangieren./n --------------------------------------------------------------------------/n The speaker has had experiences of playing music in other countries, such as France, and has encountered people with connections to jazz festivals. However, they have also faced challenges and found it difficult to motivate themselves due to the complexity and unpredictability of the situation. They have seen that it is not feasible to have a trial with six people and have felt frustrated and irritated at times.\n",
      "\n",
      "GERMAN SUMMARY:\n",
      "Die Person hat Erfahrungen gemacht, in anderen Ländern zu spielen, wie Frankreich, und hat Menschen kennenlernen, die Verbindungen zu Jazz-Festivals haben. Allerdings haben sie auch Herausforderungen gemacht und sich selbst schwierig gemacht, da die Situation komplex und unvorhersehbar ist. Sie haben gesehen, dass ein Probetest mit sechs Leuten nicht machbar ist und haben sich manchmal frustriert und genervt gefühlt./n --------------------------------------------------------------------------/n The interviewee, despite initially holding onto their old habits, found something new and exciting after the age of 16. They started going out at night and frequented a popular music club in (Name City) called (Club G). The club had a stage in the first floor and a disco below, and every week there were two to four live bands playing. The atmosphere was lively and creative, with a five-mark entry fee, allowing patrons to enjoy various forms of entertainment. The interviewer mentions that this was the spirit of the 1970s and 1980s, with a focus on small-scale art and live performances.\n",
      "\n",
      "GERMAN SUMMARY:\n",
      "            Der Interviewee hat trotz ihrer alten Gewohnheiten etwas Neues und Verlockendes nach dem Alter von 16 Jahren entdeckt. Sie haben sich abends ausgegeben und den beliebten Musikclub (Club G) in (Name City) frequentiert. Der Club hatte eine Bühne im Erdgeschoss und unten einen Disco, und jeden Wochen wurden zwei bis vier Live-Bands geplayt. Die Atmosphäre war fröhlich und kreativ, mit einem Eintritt von fünf Mark, sodass Besucher verschiedene Formen der Unterhaltung genießen konnten. Der Interviewer erinnert sich an die Geistigkeit der 1970er und 1980er Jahre, mit einem Schwerpunkt auf kleinskalige Kunst und Live-Aufführungen./n --------------------------------------------------------------------------/n The interviewee, a former clubber, recounts their experiences at a club in the 1980s, specifically the \"Krone\" in Berlin. They mention the variety of music played there, including New German Wave, and the many famous bands that performed, such as Die Ärzte and Nina Hagen Band. The interviewee also describes the atmosphere of the club, including the age range of the patrons and the types of music played on different nights, such as ABBA to Zappa Disco. They also mention a discotheque called \"Dorian Gray\" at the airport in a nearby city, which was a popular destination for clubbers.\n",
      "\n",
      "GERMAN SUMMARY:\n",
      "            Der Interviewee, ein ehemaliger Clubbesucher, erzählt von ihren Erlebnissen in einem Club in den 1980er Jahren, insbesondere im \"Krone\" in Berlin. Sie nennen die Vielfalt der Musik, die dort gespielt wurde, einschließlich der Neuen Deutschen Welle, und die viele berühmten Bands, die dort auftraten, wie Die Ärzte und Nina Hagen Band. Der Interviewee beschreibt auch die Atmosphäre des Clubs, einschließlich des Alterspektrums der Gäste und der verschiedenen Musikgenres, die am verschiedenen Abends gespielt wurden, wie ABBA bis Zappa Disco. Sie nennen auch eine Discothek namens \"Dorian Gray\" am Flughafen in einer anderen Stadt, die ein beliebtes Ziel für Clubbesucher war./n --------------------------------------------------------------------------/n The interviewee has been influenced by the electronic music scene and has been interested in it since they were 16 years old. They mention that the music played in clubs at night is excessive and exciting, and that they have been to parties where the music was so good that it was like a paradise. They also mention that there is a specific dance style associated with this music and that certain songs are played that are particularly intense.\n",
      "            The interviewee's interest in electronic music can be traced back to the time they were 16 years old, when they were introduced to the genre through the band \"Dorian Gray\". They mention that it was difficult to get in to the scene, but once they were inside, it was like a paradise. They also mention that the music was so good that it was like a drug, and that they couldn't get enough of it.\n",
      "            The interviewee's love for electronic music has been a driving force in their life, and they have continued to be involved in the scene even after all these years. They mention that the music has evolved over time, but the essence of it remains the same - it's still exciting, energetic, and addictive.\n",
      "            Overall, the interviewee's passion for electronic music is evident throughout the interview, and they express their gratitude for having been able to be a part of this vibrant and exciting scene.\n",
      "          ```\n",
      "\n",
      "Ich bin seit 16 Jahren in der elektronischen Musik scene involviert und habe mich seitdem für das, was ich dann, seitdem eigentlich äh verfolgt habe, nämlich sone elektronische Variante, und natürlich Musik, die sich vornehmlich nachts abspielt, in Clubs, und. zu der getanzt wird und äh exzessiv gefeiert wird und so weiter und so fort.  \n",
      "\n",
      "Das bahnte sich da eigentlich an, weil das Dorian Gray war natürlich zu einen wahnsinnig interessant, weil man fast nie reinkam, das war natürlich für nen Sechzehnjährigen ganz schwierig. Man musste sich da irgendwie rausputzen und äh dann klappte es trotzdem manchmal nicht. Und wenn man dann mal drin war, war natürlich umso spannender, weil die äh, Musik, völlig außergewöhnlich war, vor allem so ab three, four Uhr nachts. Und die entsprechend () heute ja so Paradiesvögel des Rhein-Main-Gebietes da einliefen, ja. In den entsprechenden Klamotten und Frisuren und allem drum und dran. Und da wurde dann auch die Musik immer extremer und äh es gab n speziellen Tanzstil, und es gab offensichtlich auch bestimmte Stücke, die ```\n",
      "\n",
      "In German:\n",
      "Ich bin seit 16 Jahren in der elektronischen Musik scene involviert und habe mich seitdem für das, was ich dann, seitdem eigentlich äh verfolgt habe, nämlich sone elektronische Variante, und natürlich Musik, die sich vornehmlich nachts abspielt, in Clubs, und. zu der getanzt wird und äh exzessiv gefeiert wird und so weiter und so fort.\n",
      "\n",
      "Das bahnte sich da eigentlich an, weil das Dorian Gray war natürlich zu einen wahnsinnig interessant, weil man fast nie reinkam, das war natürlich für nen Sechzehnjährigen ganz schwierig. Man musste sich da irgendwie rausputzen und äh dann klappte es trotzdem manchmal nicht. Und wenn man dann mal drin war, war natürlich umso spannender, weil die äh, Musik, völlig außergewöhnlich war, vor allem so ab three, four Uhr nachts. Und die entsprechend () heute ja so Paradiesvögel des Rhein-Main-Gebietes da einliefen, ja. In den entsprechenden Klamotten und Frisuren und allem drum und dran. Und da wurde dann auch die Musik immer extremer und äh es gab n speziellen Tanzstil, und es gab offensichtlich auch bestimmte Stücke, die sehr intensiv und addiktiv waren.\n",
      "\n",
      "Die Interviewee hat sich seit 16 Jahren in der elektronischen Musik scene engagiert und sich für dieart, was sie seitdem verfolgt hat, nämlich die elektronische Variante und die Musik, die nachts in Clubs abgespielt wird und exzessiv gefeiert wird. Das Interesse an dieser Musik bahnte sich an, als sie das Band \"Dorian Gray\" kennenlernte, das sehr interessant und fast unerschrockelt war. Es war jedoch schwierig, sich in die Szene zu drängen, aber wenn man drin war, war es sehr spannend, weil die Musik völlig unvergesslich war und eine spezielle Atmosphäre erzeugte. Die Musik wurde immer extremer und es gab einen speziellen Tanzstil, sowie bestimmte Songs, die sehr intensiv und addiktiv waren. Die Interviewee hat sich seitdem weiter in der Szene engagiert und hat ihre Liebe für die Musik nicht verloren./n --------------------------------------------------------------------------/n The interviewee describes their experience at a music event where they witnessed a unique light show and heard groundbreaking electronic music. They mention that the event was held in a large city and that they were impressed by the theatrical atmosphere. They also recall a phase of electronic music that was popular in Europe during the 1990s, known as Acid House, and how it had a significant impact on the music scene at the time.\n",
      "            The interviewee emphasizes the importance of the white background and the connection to the rhythm in this type of electronic music. They also mention that the music had a clear influence on the scene at the time.\n",
      "            The interviewee's use of double backquotes highlights their enthusiasm and excitement about the event and the music they heard. Their summary provides a concise overview of the key points of the interview./n --------------------------------------------------------------------------/n The interviewer reflects on their first encounter with electronic music, specifically the American variant, which they found to be more danceable than the German version. They mention that vocals and texts played a lesser role in this music, with samplers and cheap equipment being used to create the beats. Despite the limitations of the technology, the music developed a raw and extreme power, according to the interviewer.\n",
      "\n",
      "In German:\n",
      "\n",
      "Die Interviewee erinnert sich an ihre erste Begegnung mit elektronischer Musik, insbesondere der amerikanischen Variante, die sie als viel tanzbarer erlebten als die deutsche Version. Sie nennen, dass die Vocals und Texte in dieser Musik eine wichtigere Rolle spielten, aber Sampler und billige Equipment verwendet wurden, um die Beats zu erstellen. Trotz der Einschränkungen der Technologie entwickelte die Musik eine extreme und raw Kraft, wie die Interviewee betont./n --------------------------------------------------------------------------/n The interviewee describes their first time going to a rave and how they found it exciting. They also mention a friend who went on a class trip to London and brought back mix tapes and records from there. The interviewer asks about the music scene in the 80s and early 90s, and the interviewee explains that there was no internet or way to easily find information about the music, so people had to wait for records to arrive at the record store.\n",
      "\n",
      "      In German:\n",
      "         Ich habe zum ersten Mal ein Rave besucht und habe es dann wahnsinnig spannend gefunden. Und dann hatte mein Freund, der auf Klassenfahrt nach London gefahren war, irgendwelche Mix Tapes und Schallplatten aus London zurückgebracht. Das muss irgendwie auch hier in unserer Zeit gewesen sein. Und da war man irgendwie auch hier bei uns mal mit dem Acid House Explosion und Welle.  \n",
      "\n",
      " \n",
      "\n",
      "Und der kam zurück und war vollständig angefangen, kam zurück mit diversen Mix Tapes aus London und äh Schallplatten, und äh ist dann selbst abends auch in irgendwelche Party geraten und kam da auch nicht mehr raus und war vollständig, hin und weg.  \n",
      "\n",
      "Und das ging auch hier los. Daß man die Musik dann mal anfing, zusammen zu hören und sich fragte, was das denn überhaupt alles ist, es gab ja kein Internet oder irgendwas, wo man sich mal informieren konnte, sondern man musste tatsächlich mal warten, bis irgendwelche Schallplatte mal ankam, hier irgendwo im Plattenladen.  \n",
      "\n",
      "Und äh.\n",
      "\n",
      "/n --------------------------------------------------------------------------/n The interviewee describes their experience with electronic music and the equipment they used in the 1980s. They mention that they listened to electronic music in the 80s and were fascinated by it, but they also had problems with the equipment they used, such as the KAWAI drum machine which was not reliable and the ROLAND drum computer which was better.\n",
      "\n",
      "GERMAN SUMMARY:\n",
      "Die Zeugin berichtet über ihre Erfahrung mit elektronischer Musik und dem Equipment, das sie in den 1980er Jahren verwendet hat. Sie sagen, dass sie in den 80er Jahren elektronische Musik gehört und von ihr beeindruckt wurde, aber sie hatte auch Probleme mit dem Equipment, das sie verwendete, wie dem KAWAI Schlagzeugcomputer, der nicht zuverlässig war und dem ROLAND Schlagzeugcomputer, der besser funktionierte./n --------------------------------------------------------------------------/n The interviewee talks about their early experiences with music production. They mention hearing new sounds for the first time and being excited to experiment with them. They also mention using a drum machine, effects pedal, cassette recorder, and creating sounds without sequences. They emphasize the importance of having the right equipment to produce music.\n",
      "            The interviewee seems passionate about music production and eager to share their experiences. They mention the joy of hearing new sounds and the satisfaction of creating music without sequences. They also mention the importance of having the right equipment to produce music.\n",
      "\n",
      "In German:\n",
      "\n",
      "Die Person spricht über ihre frühen Erfahrungen mit der Musikproduktion. Sie nennen neue Klingel für das erste Mal und sind aufgeregt, darin zu experimentieren. Sie auch den Drumcomputer, Effektpedal, Kassettenrecorder und das Erstellen von Geräuschen ohneSequenzen nennen. Sie betonen die Bedeutung des richtigen Equipments, um Musik zu produzieren.\n",
      "\n",
      "Die Person scheint passioniert über die Musikproduktion und bereit, ihre Erfahrungen zu teilen. Sie nennen das Vergnügen von neuen Klingeln zu hören und das Vergnügen, ohneSequenzen Musik zu erstellen. Sie auch betonen die Bedeutung des richtigen Equipments, um Musik zu produzieren./n --------------------------------------------------------------------------/n The interviewee describes how they started producing electronic music at home using a small sampler, which led them to borrow a synthesizer and eventually form a band. They mention how they became interested in electronic music after attending an event in a big city, where they saw the opening of a club called \"Omen.\" They also mention how they were there twice a week after the opening, which marked a significant moment in their musical journey.\n",
      "\n",
      "GERMAN SUMMARY:\n",
      "            Der Interviewee beschreibt, wie sie sich zu Hause mit einem kleinen Sampler anfangen haben, elektronische Musik zu produzieren. Dies hat sie zu einem Synthesizer geladen und schließlich zu einer Band geführt. Sie nennen, wie sie sich für Elektronische Musik interessiert haben, nachdem sie ein Ereignis in einer großen Stadt erlebt haben, bei dem der Club \"Omen\" eröffnet wurde. Sie fügen hinzu, dass sie dort seitdem zweimal pro Woche gewesen sind, was ein wichtiger Meilenstein in ihrer musikalischen Reise ist./n --------------------------------------------------------------------------/n The interviewee reflects on their experiences at a club called \"Son Club\" in the past. They mention that every day was like a party, with free entry for women on certain days, including \"Blue Monday,\" when they could drink for free. The music was exciting, and the club was filled with interesting people. The interviewer played a strange mix of music, which was still developing and unknown at the time, including Acid House and Techno.\n",
      "\n",
      "In German:\n",
      "\n",
      "SUMMARIER:\n",
      "Der Interviewee erinnert sich an ihre Erlebnisse in einem Club namens \"Son Club\" in der Vergangenheit. Sie nennen, dass jeder Tag wie eine Party war, mit kostenloser Eintritt für Frauen auf bestimmten Tagen, einschließlich \"Blue Monday\", an dem sie kostenlos trinken konnten. Die Musik war spannend und der Club war mit interessanten Leuten gefüllt. Der Interviewer spielte eine seltsame Mischung von Musik, die sich noch entwickeln und unbekannt war zu dem Zeitpunkt, einschließlich Acid House und Techno./n --------------------------------------------------------------------------/n The interviewee describes the early days of Acid House in Germany, where they were playing normal soul and funk tracks until someone played \"Hells Bells\" by AC DC, which marked the beginning of the Acid House scene. The DJs realized that something new and exciting was happening and started to play more of this type of music, which people were reacting to strongly. One of the first DJs to bring back records from abroad and start organizing events was Sven, who became one of the pioneers of the Acid House scene in Germany.\n",
      "\n",
      "In German:\n",
      "\n",
      "DER INTERVIEVIEWENDE BESCHREIbt DIE FRÜHE JAHRE VON ACID HOUSE IN DEUTSCHLAND, WO ZUZIEHEN Sie normalen Soul und Funkstücken UNTIL SOMEONE PLAYED \"HELLS BELLS\" BY AC DC, WHICH MARKED THE BEGINNING OF THE ACID HOUSE SCENE. THE DJs REALIZED THAT SOMETHING NEW AND EXCITING WAS HAPPENING AND STARTED TO PLAY MORE OF THIS TYPE OF MUSIC, WHICH PEOPLE WERE REACTING TO STRONGLY. ONE OF THE FIRST DJs TO BRING BACK RECORDS FROM ABROAD AND START ORGANIZING EVENTS WAS SVEN, WHO BECAME ONE OF THE PIONEERS OF THE ACID HOUSE SCENE IN GERMANY./n --------------------------------------------------------------------------/n The interviewee discusses their experiences with electronic music in the 1980s and 1990s, specifically in the city of (Name of City). They mention a record store called Boy Records that was popular among young people, particularly on Saturdays, when they would go there after clubbing and buy the music they had heard the night before. The store was known for selling EBM (Electronic Body Music) and later also music from England and America. The interviewee emphasizes the impact of this store on the local music scene and how it helped to spread new sounds and styles./n --------------------------------------------------------------------------/n The interviewee, (Name unknown), describes how they exchanged their role as a musician for the first time, specifically in a band. They discuss how they began to synchronize their synthesizer with a drum computer and possibly even with early home computers that functioned as music generators. They then left the band and did civil service, during which time they had little time and money to devote to music.\n",
      "\n",
      "In German:\n",
      "Die Interviewee, whose name is not given, erzählt, wie sie zum ersten Mal als Musiker gewechselt haben, insbesondere in einer Band. Sie sprechen über das, wie sie ihren Synthesizer mit einem Drumcomputer und vielleicht sogar mit den earliest Homecomputern synchronisiert haben, die dann irgendwie auch als Musikgenerator funktionierten. Anschließend haben sie die Band verlassen und haben stattdessen Zivildienst gemacht. During this time, they had little time and money to devote to music./n --------------------------------------------------------------------------/n The interviewee describes their previous job as having a \"super job\" with \"nobody asking for more performance\" and \"nobody demanding more work\". They also mention that they had \"super\" energy and were \"obviously\" more productive.\n",
      "\n",
      "In German:\n",
      "Die Interviewee beschreibt ihr former Job als \"super Job\" mit \"keinem\" Verlangen nach mehr Leistung und \"keinem\" Auftrag, mehr zu tun. Sie fügen hinzu, dass sie \"super\" Energie had und \"obviously\" mehr produktiv waren.\n"
     ]
    }
   ],
   "source": [
    "print(out)"
   ]
  },
  {
   "cell_type": "code",
   "execution_count": 16,
   "id": "adfc98a5-9845-4c0d-aba8-5ba9975db84b",
   "metadata": {},
   "outputs": [],
   "source": [
    "import re\n",
    "\n",
    "def extract_text_between_keywords(text, keyword1=\"In German:\", keyword2=\"/n\"):\n",
    "    pattern = re.compile(f'{re.escape(keyword1)}(.*?){re.escape(keyword2)}', re.DOTALL)\n",
    "    matches = pattern.findall(text)\n",
    "    return matches"
   ]
  },
  {
   "cell_type": "code",
   "execution_count": 27,
   "id": "c88699fb-0bb7-4133-afe4-3e8052829f7d",
   "metadata": {},
   "outputs": [],
   "source": [
    "output=' '.join(extract_text_between_keywords(out))"
   ]
  },
  {
   "cell_type": "code",
   "execution_count": 31,
   "id": "1561caeb-49d8-4882-8eac-0cb4a4535b86",
   "metadata": {},
   "outputs": [
    {
     "name": "stderr",
     "output_type": "stream",
     "text": [
      "/usr/local/lib/python3.8/dist-packages/transformers/pipelines/base.py:1123: UserWarning: You seem to be using the pipelines sequentially on GPU. In order to maximize efficiency please use a dataset\n",
      "  warnings.warn(\n"
     ]
    }
   ],
   "source": [
    "final=LLaMa_LangCain.llm_chain.run(output)"
   ]
  },
  {
   "cell_type": "code",
   "execution_count": 34,
   "id": "26a7e75c-08b6-473d-8316-88395871705d",
   "metadata": {},
   "outputs": [
    {
     "name": "stdout",
     "output_type": "stream",
     "text": [
      " The interviewee remembers their experiences in a club called \"Son Club\" in the past. They mention that every day was like a party, with free entry for women on certain days, including \"Blue Monday,\" on which they could drink for free. The music was exciting, and the club was full of interesting people. The interviewer played a strange mix of music that was still developing and unknown at the time, including Acid House and Techno.\n",
      "\n",
      "THE INTERVIEWEE DESCRIBES THE EARLY YEARS OF ACID HOUSE IN GERMANY, WHERE THEY WOULD PLAY NORMAL SOUL AND FUNK SONGS UNTIL SOMEONE PLAYED \"HELLS BELLS\" BY AC DC, WHICH MARKED THE BIRTH OF THE ACID HOUSE SCENE. THE DJs REALIZED THAT SOMETHING NEW AND EXCITING WAS HAPPENING AND STARTED TO PLAY MORE OF THIS TYPE OF MUSIC, WHICH PEOPLE WERE REACTING TO STRONGLY. ONE OF THE FIRST DJs TO BRING BACK RECORDS FROM ABROAD AND START ORGANIZING EVENTS WAS SVEN, WHO BECAME ONE OF THE PIONEERS OF THE ACID HOUSE SCENE IN GERMANY.\n",
      "\n",
      "The interviewee, whose name is not given, describes how they switched from being a listener to a musician for the first time, particularly in a band. They speak about how they synchronized their Synthesizer with a Drumcomputer and perhaps even with the earliest Homecomputers, which then functioned as music generators. After leaving the band, they did their civil service and had little time and money to devote to music during that time.\n"
     ]
    }
   ],
   "source": [
    "print(final)"
   ]
  },
  {
   "cell_type": "code",
   "execution_count": null,
   "id": "dc160e91-148a-4b6a-a4e1-a11f525270fd",
   "metadata": {},
   "outputs": [],
   "source": []
  }
 ],
 "metadata": {
  "kernelspec": {
   "display_name": "Python 3 (ipykernel)",
   "language": "python",
   "name": "python3"
  },
  "language_info": {
   "codemirror_mode": {
    "name": "ipython",
    "version": 3
   },
   "file_extension": ".py",
   "mimetype": "text/x-python",
   "name": "python",
   "nbconvert_exporter": "python",
   "pygments_lexer": "ipython3",
   "version": "3.8.10"
  }
 },
 "nbformat": 4,
 "nbformat_minor": 5
}
