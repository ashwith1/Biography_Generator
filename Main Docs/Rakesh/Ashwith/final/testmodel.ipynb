{
 "cells": [
  {
   "cell_type": "code",
   "execution_count": 1,
   "metadata": {},
   "outputs": [
    {
     "name": "stdout",
     "output_type": "stream",
     "text": [
      "Starting model load...\n"
     ]
    },
    {
     "data": {
      "application/vnd.jupyter.widget-view+json": {
       "model_id": "8473a403bac648b1beb72aeb3023b4d1",
       "version_major": 2,
       "version_minor": 0
      },
      "text/plain": [
       "Loading checkpoint shards:   0%|          | 0/4 [00:00<?, ?it/s]"
      ]
     },
     "metadata": {},
     "output_type": "display_data"
    },
    {
     "name": "stdout",
     "output_type": "stream",
     "text": [
      "Model loaded successfully.\n"
     ]
    }
   ],
   "source": [
    "import torch\n",
    "from transformers import AutoTokenizer, AutoModelForCausalLM\n",
    "import gc\n",
    "\n",
    "def test_model_loading():\n",
    "    print(\"Starting model load...\")\n",
    "    try:\n",
    "        gc.collect()  # Clear CPU memory\n",
    "        tokenizer = AutoTokenizer.from_pretrained(\"meta-llama/Meta-Llama-3.1-8B-Instruct\")\n",
    "        model = AutoModelForCausalLM.from_pretrained(\"meta-llama/Meta-Llama-3.1-8B-Instruct\").to(\"cpu\")\n",
    "        print(\"Model loaded successfully.\")\n",
    "    except Exception as e:\n",
    "        print(f\"Model loading failed: {str(e)}\")\n",
    "\n",
    "if __name__ == \"__main__\":\n",
    "    test_model_loading()\n"
   ]
  },
  {
   "cell_type": "code",
   "execution_count": 1,
   "metadata": {},
   "outputs": [
    {
     "name": "stdout",
     "output_type": "stream",
     "text": [
      "Starting model load...\n"
     ]
    },
    {
     "data": {
      "application/vnd.jupyter.widget-view+json": {
       "model_id": "491bd9e588a04c5eb2a2febbdfefb868",
       "version_major": 2,
       "version_minor": 0
      },
      "text/plain": [
       "Loading checkpoint shards:   0%|          | 0/4 [00:00<?, ?it/s]"
      ]
     },
     "metadata": {},
     "output_type": "display_data"
    },
    {
     "name": "stderr",
     "output_type": "stream",
     "text": [
      "The attention mask and the pad token id were not set. As a consequence, you may observe unexpected behavior. Please pass your input's `attention_mask` to obtain reliable results.\n",
      "Setting `pad_token_id` to `eos_token_id`:128001 for open-end generation.\n",
      "The attention mask is not set and cannot be inferred from input because pad token is same as eos token.As a consequence, you may observe unexpected behavior. Please pass your input's `attention_mask` to obtain reliable results.\n"
     ]
    },
    {
     "name": "stdout",
     "output_type": "stream",
     "text": [
      "Model loaded successfully.\n",
      "Generating biography...\n",
      "Generated Biography:\n",
      "Erstellen Sie eine kurze Biographie über Albert Einstein. Albert Einstein (1879-1955) war ein deutscher Physiker und Mathematiker, der als einer der bedeutendsten Wissenschaftler des 20. Jahr\n"
     ]
    }
   ],
   "source": [
    "import torch\n",
    "from transformers import AutoTokenizer, AutoModelForCausalLM\n",
    "import gc\n",
    "\n",
    "def test_biography_generation():\n",
    "    print(\"Starting model load...\")\n",
    "    try:\n",
    "        gc.collect()  # Clear CPU memory\n",
    "        tokenizer = AutoTokenizer.from_pretrained(\"meta-llama/Meta-Llama-3.1-8B-Instruct\")\n",
    "        model = AutoModelForCausalLM.from_pretrained(\"meta-llama/Meta-Llama-3.1-8B-Instruct\").to(\"cpu\")\n",
    "        print(\"Model loaded successfully.\")\n",
    "        \n",
    "        # Test biography generation with a shorter and simpler prompt\n",
    "        prompt = \"Albert Einstein war ein berühmter theoretischer Physiker.\"\n",
    "        input_ids = tokenizer(prompt, return_tensors=\"pt\").input_ids.to(\"cpu\")\n",
    "        \n",
    "        print(\"Generating biography...\")\n",
    "        output = model.generate(input_ids, max_length=50)\n",
    "        biography = tokenizer.decode(output[0], skip_special_tokens=True)\n",
    "        print(\"Generated Biography:\")\n",
    "        print(biography)\n",
    "    \n",
    "    except Exception as e:\n",
    "        print(f\"Process failed: {str(e)}\")\n",
    "\n",
    "if __name__ == \"__main__\":\n",
    "    test_biography_generation()\n"
   ]
  }
 ],
 "metadata": {
  "kernelspec": {
   "display_name": "Python 3",
   "language": "python",
   "name": "python3"
  },
  "language_info": {
   "codemirror_mode": {
    "name": "ipython",
    "version": 3
   },
   "file_extension": ".py",
   "mimetype": "text/x-python",
   "name": "python",
   "nbconvert_exporter": "python",
   "pygments_lexer": "ipython3",
   "version": "3.11.8"
  }
 },
 "nbformat": 4,
 "nbformat_minor": 2
}
